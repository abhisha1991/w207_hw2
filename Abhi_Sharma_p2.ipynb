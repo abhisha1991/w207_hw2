{
 "cells": [
  {
   "cell_type": "markdown",
   "metadata": {
    "colab_type": "text",
    "id": "6t55qCf3Fsxa"
   },
   "source": [
    "# Project 2: Topic Classification"
   ]
  },
  {
   "cell_type": "markdown",
   "metadata": {
    "colab_type": "text",
    "id": "j9-9G8z4Fsxd"
   },
   "source": [
    "In this project, you'll work with text data from newsgroup posts on a variety of topics. You'll train classifiers to distinguish posts by topics inferred from the text. Whereas with digit classification, where each input is relatively dense (represented as a 28x28 matrix of pixels, many of which are non-zero), here each document is relatively sparse (represented as a bag-of-words). Only a few words of the total vocabulary are active in any given document. The assumption is that a label depends only on the count of words, not their order.\n",
    "\n",
    "The `sklearn` documentation on feature extraction may be useful:\n",
    "http://scikit-learn.org/stable/modules/feature_extraction.html\n",
    "\n",
    "Each problem can be addressed succinctly with the included packages -- please don't add any more. Grading will be based on writing clean, commented code, along with a few short answers.\n",
    "\n",
    "As always, you're welcome to work on the project in groups and discuss ideas on Slack, but <b> please prepare your own write-up with your own code. </b>"
   ]
  },
  {
   "cell_type": "code",
   "execution_count": 1,
   "metadata": {
    "colab": {},
    "colab_type": "code",
    "id": "AUYW83LqFsxd"
   },
   "outputs": [],
   "source": [
    "# This tells matplotlib not to try opening a new window for each plot.\n",
    "%matplotlib inline\n",
    "\n",
    "# General libraries.\n",
    "import re\n",
    "import numpy as np\n",
    "import matplotlib.pyplot as plt\n",
    "\n",
    "# SK-learn libraries for learning.\n",
    "from sklearn.pipeline import Pipeline\n",
    "from sklearn.neighbors import KNeighborsClassifier\n",
    "from sklearn.linear_model import LogisticRegression\n",
    "from sklearn.naive_bayes import BernoulliNB\n",
    "from sklearn.naive_bayes import MultinomialNB\n",
    "\n",
    "# SK-learn libraries for evaluation.\n",
    "from sklearn.metrics import confusion_matrix\n",
    "from sklearn import metrics\n",
    "from sklearn.metrics import classification_report\n",
    "\n",
    "# SK-learn library for importing the newsgroup data.\n",
    "from sklearn.datasets import fetch_20newsgroups\n",
    "\n",
    "# SK-learn libraries for feature extraction from text.\n",
    "from sklearn.feature_extraction.text import *\n",
    "\n",
    "import nltk"
   ]
  },
  {
   "cell_type": "markdown",
   "metadata": {
    "colab_type": "text",
    "id": "_ALNjGgCFsxg"
   },
   "source": [
    "Load the data, stripping out metadata so that only textual features will be used, and restricting documents to 4 specific topics. By default, newsgroups data is split into training and test sets, but here the test set gets further split into development and test sets.  (If you remove the categories argument from the fetch function calls, you'd get documents from all 20 topics.)"
   ]
  },
  {
   "cell_type": "code",
   "execution_count": 2,
   "metadata": {
    "colab": {},
    "colab_type": "code",
    "id": "ecYpcoxaFsxh"
   },
   "outputs": [
    {
     "name": "stdout",
     "output_type": "stream",
     "text": [
      "training label shape: (2034,)\n",
      "dev label shape: (676,)\n",
      "test label shape: (677,)\n",
      "labels names: ['alt.atheism', 'comp.graphics', 'sci.space', 'talk.religion.misc']\n"
     ]
    }
   ],
   "source": [
    "categories = ['alt.atheism', 'talk.religion.misc', 'comp.graphics', 'sci.space']\n",
    "newsgroups_train = fetch_20newsgroups(subset='train',\n",
    "                                      remove=('headers', 'footers', 'quotes'),\n",
    "                                      categories=categories)\n",
    "newsgroups_test  = fetch_20newsgroups(subset='test',\n",
    "                                      remove=('headers', 'footers', 'quotes'),\n",
    "                                      categories=categories)\n",
    "\n",
    "num_test = int(len(newsgroups_test.target) / 2)\n",
    "test_data, test_labels   = newsgroups_test.data[num_test:], newsgroups_test.target[num_test:]\n",
    "dev_data, dev_labels     = newsgroups_test.data[:num_test], newsgroups_test.target[:num_test]\n",
    "train_data, train_labels = newsgroups_train.data, newsgroups_train.target\n",
    "\n",
    "print('training label shape:', train_labels.shape)\n",
    "print('dev label shape:',      dev_labels.shape)\n",
    "print('test label shape:',     test_labels.shape)\n",
    "print('labels names:',         newsgroups_train.target_names)"
   ]
  },
  {
   "cell_type": "markdown",
   "metadata": {
    "colab_type": "text",
    "id": "OHTnOke6Fsxk"
   },
   "source": [
    "### Part 1:\n",
    "\n",
    "For each of the first 5 training examples, print the text of the message along with the label."
   ]
  },
  {
   "cell_type": "code",
   "execution_count": 3,
   "metadata": {
    "colab": {},
    "colab_type": "code",
    "id": "X8zhA06xFsxl"
   },
   "outputs": [
    {
     "name": "stdout",
     "output_type": "stream",
     "text": [
      "\u001b[1mMessage for example number 0 with label 1 (comp.graphics) is\u001b[0m\n",
      "\u001b[94mHi,\n",
      "\n",
      "I've noticed that if you only save a model (with all your mapping planes\n",
      "positioned carefully) to a .3DS file that when you reload it after restarting\n",
      "3DS, they are given a default position and orientation.  But if you save\n",
      "to a .PRJ file their positions/orientation are preserved.  Does anyone\n",
      "know why this information is not stored in the .3DS file?  Nothing is\n",
      "explicitly said in the manual about saving texture rules in the .PRJ file. \n",
      "I'd like to be able to read the texture rule information, does anyone have \n",
      "the format for the .PRJ file?\n",
      "\n",
      "Is the .CEL file format available from somewhere?\n",
      "\n",
      "Rych\u001b[0m\n",
      "\n",
      "\u001b[1mMessage for example number 1 with label 3 (talk.religion.misc) is\u001b[0m\n",
      "\u001b[94m\n",
      "\n",
      "Seems to be, barring evidence to the contrary, that Koresh was simply\n",
      "another deranged fanatic who thought it neccessary to take a whole bunch of\n",
      "folks with him, children and all, to satisfy his delusional mania. Jim\n",
      "Jones, circa 1993.\n",
      "\n",
      "\n",
      "Nope - fruitcakes like Koresh have been demonstrating such evil corruption\n",
      "for centuries.\u001b[0m\n",
      "\n",
      "\u001b[1mMessage for example number 2 with label 2 (sci.space) is\u001b[0m\n",
      "\u001b[94m\n",
      " >In article <1993Apr19.020359.26996@sq.sq.com>, msb@sq.sq.com (Mark Brader) \n",
      "\n",
      "MB>                                                             So the\n",
      "MB> 1970 figure seems unlikely to actually be anything but a perijove.\n",
      "\n",
      "JG>Sorry, _perijoves_...I'm not used to talking this language.\n",
      "\n",
      "Couldn't we just say periapsis or apoapsis?\n",
      "\n",
      " \u001b[0m\n",
      "\n",
      "\u001b[1mMessage for example number 3 with label 0 (alt.atheism) is\u001b[0m\n",
      "\u001b[94mI have a request for those who would like to see Charley Wingate\n",
      "respond to the \"Charley Challenges\" (and judging from my e-mail, there\n",
      "appear to be quite a few of you.)  \n",
      "\n",
      "It is clear that Mr. Wingate intends to continue to post tangential or\n",
      "unrelated articles while ingoring the Challenges themselves.  Between\n",
      "the last two re-postings of the Challenges, I noted perhaps a dozen or\n",
      "more posts by Mr. Wingate, none of which answered a single Challenge.  \n",
      "\n",
      "It seems unmistakable to me that Mr. Wingate hopes that the questions\n",
      "will just go away, and he is doing his level best to change the\n",
      "subject.  Given that this seems a rather common net.theist tactic, I\n",
      "would like to suggest that we impress upon him our desire for answers,\n",
      "in the following manner:\n",
      "\n",
      "1. Ignore any future articles by Mr. Wingate that do not address the\n",
      "Challenges, until he answers them or explictly announces that he\n",
      "refuses to do so.\n",
      "\n",
      "--or--\n",
      "\n",
      "2. If you must respond to one of his articles, include within it\n",
      "something similar to the following:\n",
      "\n",
      "    \"Please answer the questions posed to you in the Charley Challenges.\"\n",
      "\n",
      "Really, I'm not looking to humiliate anyone here, I just want some\n",
      "honest answers.  You wouldn't think that honesty would be too much to\n",
      "ask from a devout Christian, would you?  \n",
      "\n",
      "Nevermind, that was a rhetorical question.\u001b[0m\n",
      "\n",
      "\u001b[1mMessage for example number 4 with label 2 (sci.space) is\u001b[0m\n",
      "\u001b[94mAW&ST  had a brief blurb on a Manned Lunar Exploration confernce\n",
      "May 7th  at Crystal City Virginia, under the auspices of AIAA.\n",
      "\n",
      "Does anyone know more about this?  How much, to attend????\n",
      "\n",
      "Anyone want to go?\u001b[0m\n",
      "\n"
     ]
    }
   ],
   "source": [
    "# https://stackoverflow.com/questions/8924173/how-do-i-print-bold-text-in-python\n",
    "class color:\n",
    "   PURPLE = '\\033[95m'\n",
    "   CYAN = '\\033[96m'\n",
    "   DARKCYAN = '\\033[36m'\n",
    "   BLUE = '\\033[94m'\n",
    "   GREEN = '\\033[92m'\n",
    "   YELLOW = '\\033[93m'\n",
    "   RED = '\\033[91m'\n",
    "   BOLD = '\\033[1m'\n",
    "   UNDERLINE = '\\033[4m'\n",
    "   END = '\\033[0m'\n",
    "    \n",
    "def P1(num_examples=5):\n",
    "    for i in range(num_examples):\n",
    "        print (color.BOLD + \"Message for example number {0} with label {1} ({2}) is\".format(i, train_labels[i], newsgroups_train.target_names[train_labels[i]]) + color.END)\n",
    "        print(color.BLUE + train_data[i] + color.END)\n",
    "        print()\n",
    "P1(5)"
   ]
  },
  {
   "cell_type": "markdown",
   "metadata": {
    "colab_type": "text",
    "id": "onfno6uHFsxm"
   },
   "source": [
    "### Part 2:\n",
    "\n",
    "Transform the training data into a matrix of **word** unigram feature vectors.  What is the size of the vocabulary? What is the average number of non-zero features per example?  What is the fraction of the non-zero entries in the matrix?  What are the 0th and last feature strings (in alphabetical order)?<br/>\n",
    "_Use `CountVectorization` and its `.fit_transform` method.  Use `.nnz` and `.shape` attributes, and `.get_feature_names` method._\n",
    "\n",
    "Now transform the training data into a matrix of **word** unigram feature vectors using your own vocabulary with these 4 words: [\"atheism\", \"graphics\", \"space\", \"religion\"].  Confirm the size of the vocabulary. What is the average number of non-zero features per example?<br/>\n",
    "_Use `CountVectorization(vocabulary=...)` and its `.transform` method._\n",
    "\n",
    "Now transform the training data into a matrix of **character** bigram and trigram feature vectors.  What is the size of the vocabulary?<br/>\n",
    "_Use `CountVectorization(analyzer=..., ngram_range=...)` and its `.fit_transform` method._\n",
    "\n",
    "Now transform the training data into a matrix of **word** unigram feature vectors and prune words that appear in fewer than 10 documents.  What is the size of the vocabulary?<br/>\n",
    "_Use `CountVectorization(min_df=...)` and its `.fit_transform` method._\n",
    "\n",
    "Now again transform the training data into a matrix of **word** unigram feature vectors. What is the fraction of words in the development vocabulary that is missing from the training vocabulary?<br/>\n",
    "_Hint: Build vocabularies for both train and dev and look at the size of the difference._\n",
    "\n",
    "Notes:\n",
    "* `.fit_transform` makes 2 passes through the data: first it computes the vocabulary (\"fit\"), second it converts the raw text into feature vectors using the vocabulary (\"transform\").\n",
    "* `.fit_transform` and `.transform` return sparse matrix objects.  See about them at http://docs.scipy.org/doc/scipy-0.14.0/reference/generated/scipy.sparse.csr_matrix.html.  "
   ]
  },
  {
   "cell_type": "code",
   "execution_count": 4,
   "metadata": {
    "colab": {},
    "colab_type": "code",
    "id": "LyVwk5RvFsxn"
   },
   "outputs": [
    {
     "name": "stdout",
     "output_type": "stream",
     "text": [
      "\u001b[1m[Standard]\u001b[0m The size of the vocabulary is 26879\n",
      "\u001b[1m[Standard]\u001b[0m The average number of non-zero features per example is 96.70599803343165\n",
      "\u001b[1m[Standard]\u001b[0m The fraction of the non-zero entries in the matrix is 0.5215127315919528\n",
      "\u001b[1m[Custom Vocab]\u001b[0m The custom vocab size is 4 and expected size is 4\n",
      "{'atheism': 0, 'graphics': 1, 'space': 2, 'religion': 3}\n",
      "\u001b[1m[Custom Vocab]\u001b[0m The average number of non-zero features per example is 0.26843657817109146\n",
      "\u001b[1m[Character n-grams]\u001b[0m The size of the vocabulary is 35478\n",
      "\u001b[1m[Min word freq]\u001b[0m The size of the vocabulary is 3064\n",
      "Fraction of words in dev vocab that are not in the training vocab are 0.24787640034470024\n"
     ]
    }
   ],
   "source": [
    "def P2():\n",
    "    # by default, analyzer is word - so we have word n-grams\n",
    "    vectorizer = CountVectorizer()\n",
    "    vec_result = vectorizer.fit_transform(train_data)\n",
    "    \n",
    "    print(color.BOLD + \"[Standard]\" + color.END + \" The size of the vocabulary is {0}\".format(len(vectorizer.vocabulary_)))\n",
    "    # print(vec_result.toarray())\n",
    "    \n",
    "    # count all non zero elements per example in the result vector\n",
    "    nonzero = np.count_nonzero(vec_result.toarray(), axis=1)\n",
    "    \n",
    "    print(color.BOLD + \"[Standard]\" + color.END + \" The average number of non-zero features per example is {0}\".format(np.average(nonzero)))\n",
    "    print(color.BOLD + \"[Standard]\" + color.END + \" The fraction of the non-zero entries in the matrix is {0}\".format(np.sum(nonzero)/np.sum(vec_result.toarray())))\n",
    "    \n",
    "    custom_vocab = [\"atheism\", \"graphics\", \"space\", \"religion\"]\n",
    "    vectorizer = CountVectorizer(vocabulary=custom_vocab)\n",
    "    vec_result = vectorizer.transform(train_data)\n",
    "    print(color.BOLD + \"[Custom Vocab]\" + color.END +\" The custom vocab size is {0} and expected size is {1}\".format(len(vectorizer.vocabulary_), len(custom_vocab)))\n",
    "    print(vectorizer.vocabulary_)\n",
    "    \n",
    "    nonzero = np.count_nonzero(vec_result.toarray(), axis=1)\n",
    "    print(color.BOLD + \"[Custom Vocab]\" + color.END +\" The average number of non-zero features per example is {0}\".format(np.average(nonzero)))\n",
    "\n",
    "    # make analyzer to be string, so we have char n-grams\n",
    "    vectorizer = CountVectorizer(analyzer=\"char\", ngram_range=(2,3))\n",
    "    vec_result = vectorizer.fit_transform(train_data)\n",
    "    print(color.BOLD + \"[Character n-grams]\" + color.END + \" The size of the vocabulary is {0}\".format(len(vectorizer.vocabulary_)))\n",
    "    \n",
    "    # prune words that appear in fewer than 10 docs\n",
    "    vectorizer = CountVectorizer(min_df=10)\n",
    "    vec_result = vectorizer.fit_transform(train_data)\n",
    "    print(color.BOLD + \"[Min word freq]\" + color.END + \" The size of the vocabulary is {0}\".format(len(vectorizer.vocabulary_)))\n",
    "    \n",
    "    vectorizer_train = CountVectorizer()\n",
    "    vec_result_train = vectorizer_train.fit_transform(train_data)\n",
    "\n",
    "    vectorizer_dev = CountVectorizer()\n",
    "    vec_result_dev = vectorizer_dev.fit_transform(dev_data)\n",
    "    \n",
    "    diffkeys = [k for k in vectorizer_dev.vocabulary_ if k not in vectorizer_train.vocabulary_]\n",
    "    print(\"Fraction of words in dev vocab that are not in the training vocab are {0}\".format(len(diffkeys)/len(vectorizer_dev.vocabulary_)))\n",
    "    \n",
    "\n",
    "P2()"
   ]
  },
  {
   "cell_type": "markdown",
   "metadata": {
    "colab_type": "text",
    "id": "ydjkRh6LFsxp"
   },
   "source": [
    "### Part 3:\n",
    "\n",
    "Transform the training and development data to matrices of word unigram feature vectors.\n",
    "\n",
    "1. Produce several k-Nearest Neigbors models by varying k, including one with k set to optimize f1 score.  For each model, show the k value and f1 score.\n",
    "1. Produce several Naive Bayes models by varying smoothing (alpha), including one with alpha set approximately to optimize f1 score.  For each model, show the alpha value and f1 score.\n",
    "1. Produce several Logistic Regression models by varying L2 regularization strength (C), including one with C set approximately to optimize f1 score.  For each model, show the C value, f1 score, and sum of squared weights for each topic.\n",
    "\n",
    "* Why doesn't k-Nearest Neighbors work well for this problem?\n",
    "* Why doesn't Logistic Regression work as well as Naive Bayes does?\n",
    "* What is the relationship between logistic regression's sum of squared weights vs. C value?\n",
    "\n",
    "Notes:\n",
    "* Train on the transformed training data.\n",
    "* Evaluate on the transformed development data.\n",
    "* You can use `CountVectorizer` and its `.fit_transform` and `.transform` methods to transform data.\n",
    "* You can use `KNeighborsClassifier(...)` to produce a k-Nearest Neighbors model.\n",
    "* You can use `MultinomialNB(...)` to produce a Naive Bayes model.\n",
    "* You can use `LogisticRegression(C=..., solver=\"liblinear\", multi_class=\"auto\")` to produce a Logistic Regression model.\n",
    "* You can use `LogisticRegression`'s `.coef_` method to get weights for each topic.\n",
    "* You can use `metrics.f1_score(..., average=\"weighted\")` to compute f1 score."
   ]
  },
  {
   "cell_type": "code",
   "execution_count": 6,
   "metadata": {
    "colab": {},
    "colab_type": "code",
    "id": "VvhpODdWFsxp"
   },
   "outputs": [
    {
     "name": "stdout",
     "output_type": "stream",
     "text": [
      "Shape of the training set is (2034, 26879)\n",
      "Shape of the dev set is (676, 26879)\n",
      "\u001b[1m[KNN]\u001b[0m For k =1, the F1 score is 0.39471048126424524\n",
      "\u001b[1m[KNN]\u001b[0m For k =4, the F1 score is 0.43875508098431965\n",
      "\u001b[1m[KNN]\u001b[0m For k =7, the F1 score is 0.46175340993202596\n",
      "\u001b[1m[KNN]\u001b[0m For k =10, the F1 score is 0.4350054925155611\n",
      "\u001b[1m[KNN]\u001b[0m For k =13, the F1 score is 0.42482630337487526\n",
      "\u001b[1m[KNN]\u001b[0m For k =16, the F1 score is 0.42682518292683985\n",
      "\u001b[1m[KNN]\u001b[0m For k =19, the F1 score is 0.4392809249326796\n",
      "\u001b[1m[MultiNomial NB]\u001b[0m For alpha =1e-10, the F1 score is 0.747240657284563\n",
      "\u001b[1m[MultiNomial NB]\u001b[0m For alpha =0.0001, the F1 score is 0.7628348704826354\n",
      "\u001b[1m[MultiNomial NB]\u001b[0m For alpha =0.001, the F1 score is 0.7702518836155706\n",
      "\u001b[1m[MultiNomial NB]\u001b[0m For alpha =0.01, the F1 score is 0.7751663218544357\n",
      "\u001b[1m[MultiNomial NB]\u001b[0m For alpha =0.1, the F1 score is 0.7903052385098862\n",
      "\u001b[1m[MultiNomial NB]\u001b[0m For alpha =0.5, the F1 score is 0.7862862961995258\n",
      "\u001b[1m[MultiNomial NB]\u001b[0m For alpha =1.0, the F1 score is 0.7777320236017224\n",
      "\u001b[1m[MultiNomial NB]\u001b[0m For alpha =2.0, the F1 score is 0.7689966472342658\n",
      "\u001b[1m[MultiNomial NB]\u001b[0m For alpha =10.0, the F1 score is 0.6674814338256576\n"
     ]
    },
    {
     "name": "stderr",
     "output_type": "stream",
     "text": [
      "C:\\Users\\abhisha.REDMOND\\AppData\\Local\\Continuum\\anaconda3\\lib\\site-packages\\sklearn\\metrics\\classification.py:1437: UndefinedMetricWarning: F-score is ill-defined and being set to 0.0 in labels with no predicted samples.\n",
      "  'precision', 'predicted', average, warn_for)\n"
     ]
    },
    {
     "name": "stdout",
     "output_type": "stream",
     "text": [
      "\u001b[1m[Logistic Regression]\u001b[0m For C =1e-10, F1 score: 0.20641155283594254, SSQ: [5.70674183e-13 8.45299474e-13 4.04006981e-13 6.35819484e-13]\n",
      "\u001b[1m[Logistic Regression]\u001b[0m For C =0.0001, F1 score: 0.5416003218838589, SSQ: [0.00770175 0.0119412  0.00943508 0.00910284]\n",
      "\u001b[1m[Logistic Regression]\u001b[0m For C =0.001, F1 score: 0.6193046812006844, SSQ: [0.16509345 0.20095275 0.18067094 0.18724278]\n",
      "\u001b[1m[Logistic Regression]\u001b[0m For C =0.01, F1 score: 0.6646997417582748, SSQ: [2.5413558  2.93970937 2.86246882 2.25002927]\n",
      "\u001b[1m[Logistic Regression]\u001b[0m For C =0.1, F1 score: 0.6966243542418833, SSQ: [27.13514406 24.65434249 27.45786441 23.02489289]\n",
      "\u001b[1m[Logistic Regression]\u001b[0m For C =0.5, F1 score: 0.7084739776490449, SSQ: [102.63762685  83.0975799   99.01440078  88.99614071]\n",
      "\u001b[1m[Logistic Regression]\u001b[0m For C =0.7, F1 score: 0.6955933920829318, SSQ: [130.84375599 104.14478602 124.97938986 113.83213232]\n",
      "\u001b[1m[Logistic Regression]\u001b[0m For C =1.0, F1 score: 0.6944172871853819, SSQ: [166.9879464  130.95035682 158.03163295 145.75081358]\n",
      "\u001b[1m[Logistic Regression]\u001b[0m For C =2.0, F1 score: 0.6940391175616126, SSQ: [257.33802546 197.90115201 239.97424897 226.71453982]\n",
      "\u001b[1m[Logistic Regression]\u001b[0m For C =10.0, F1 score: 0.6865669233056786, SSQ: [585.59794912 449.63345748 539.60550609 530.83003021]\n",
      "\u001b[1m[Logistic Regression]\u001b[0m For C =50, F1 score: 0.681122607801113, SSQ: [1113.98156316  866.01473683 1025.81276514 1033.58972015]\n",
      "\u001b[1m[Logistic Regression]\u001b[0m For C =100, F1 score: 0.6825534111462858, SSQ: [1406.49460281 1080.98730345 1289.92721643 1324.12636783]\n"
     ]
    }
   ],
   "source": [
    "from collections import defaultdict\n",
    "\n",
    "def knn_helper(k_values, train_set, dev_set, train_y, dev_y, verbose=True):\n",
    "    f1_score = defaultdict(list)\n",
    "    \n",
    "    # define knn model\n",
    "    for k in k_values:\n",
    "        neigh = KNeighborsClassifier(n_neighbors=k)\n",
    "        neigh.fit(train_set, train_y)\n",
    "        predictions = neigh.predict(dev_set)\n",
    "        f1_score[k] = metrics.f1_score(dev_y, predictions, average=\"weighted\")\n",
    "    \n",
    "    if verbose:\n",
    "        for k in k_values:\n",
    "            print(color.BOLD + \"[KNN]\" + color.END + \" For k ={0}, the F1 score is {1}\".format(k, f1_score[k]))\n",
    "            \n",
    "    return f1_score\n",
    "\n",
    "def multinomial_nb_helper(alphas, train_set, dev_set, train_y, dev_y, verbose=True):\n",
    "    f1_score = defaultdict(list)\n",
    "    \n",
    "    for a in alphas:\n",
    "        clf = MultinomialNB(alpha=a)\n",
    "        clf.fit(train_set, train_y)\n",
    "        predictions = clf.predict(dev_set)\n",
    "        f1_score[a] = metrics.f1_score(dev_y, predictions, average=\"weighted\")\n",
    "\n",
    "    if verbose:\n",
    "        for a in alphas:\n",
    "            print(color.BOLD + \"[MultiNomial NB]\" + color.END + \" For alpha ={0}, the F1 score is {1}\".format(a, f1_score[a]))\n",
    "    \n",
    "    return f1_score\n",
    "\n",
    "def logistic_reg_helper(l2_reg, train_set, dev_set, train_y, dev_y, verbose=True):\n",
    "    f1_score = defaultdict(list)\n",
    "    \n",
    "    for l2 in l2_reg:\n",
    "        clf = LogisticRegression(C=l2, solver=\"liblinear\", multi_class=\"auto\")\n",
    "        clf.fit(train_set, train_y)\n",
    "        predictions = clf.predict(dev_set)\n",
    "        f1_score[l2].append(metrics.f1_score(dev_y, predictions, average=\"weighted\"))\n",
    "        f1_score[l2].append(np.sum(clf.coef_ ** 2, axis=1))\n",
    "        \n",
    "    if verbose:\n",
    "        for l2 in l2_reg:\n",
    "            print(color.BOLD + \"[Logistic Regression]\" + color.END + \" For C ={0}, F1 score: {1}, SSQ: {2}\".format(l2, f1_score[l2][0], f1_score[l2][1]))\n",
    "    \n",
    "    return f1_score\n",
    "    \n",
    "def P3():\n",
    "    # prepare dataset\n",
    "    vocab = set()\n",
    "    vec = CountVectorizer()\n",
    "    vec.fit_transform(train_data)\n",
    "    vocab.update(vec.vocabulary_.keys())\n",
    "\n",
    "    vec = CountVectorizer()\n",
    "    vec.fit_transform(dev_data)\n",
    "    vocab.intersection(set(vec.vocabulary_.keys()))\n",
    "    \n",
    "    vec = CountVectorizer(vocabulary=list(vocab))\n",
    "    vec_result_train = vec.fit_transform(train_data)\n",
    "    vec_result_dev = vec.fit_transform(dev_data)\n",
    "    \n",
    "    print(\"Shape of the training set is {0}\".format(str(vec_result_train.toarray().shape)))\n",
    "    print(\"Shape of the dev set is {0}\".format(str(vec_result_dev.toarray().shape)))\n",
    "    \n",
    "    # perform knn\n",
    "    knn_helper([i for i in range(1, 20, 3)], vec_result_train.toarray(), vec_result_dev.toarray(), train_labels, dev_labels)\n",
    "   \n",
    "    # perform multinomial nb\n",
    "    multinomial_nb_helper([1.0e-10, 0.0001, 0.001, 0.01, 0.1, 0.5, 1.0, 2.0, 10.0], vec_result_train.toarray(), vec_result_dev.toarray(), train_labels, dev_labels)\n",
    "    \n",
    "    # perform logistic regression\n",
    "    logistic_reg_helper([1.0e-10, 0.0001, 0.001, 0.01, 0.1, 0.5, 0.7, 1.0, 2.0, 10.0, 50, 100], vec_result_train.toarray(), vec_result_dev.toarray(), train_labels, dev_labels)\n",
    "\n",
    "P3()"
   ]
  },
  {
   "cell_type": "markdown",
   "metadata": {
    "colab_type": "text",
    "id": "jWtXwAlOFsxr"
   },
   "source": [
    "ANSWER:\n",
    "\n",
    "**KNN**\n",
    "\n",
    "KNN doesnt perform as well due to the curse of dimensionality. As we notice, there are over 25k features in the model.\n",
    "Due to this, not only does KNN run slowest of the 3 models, but its F score also suffers. The feature space is large and its hard to generalize well with small values of K (small compared to the size of the features). We can try to increase the value of K, however, beyond a threshold - increasing K will lose its meaning. For example, it would not be useful to consider (say) 10k neighbors for a data point for classification as its not useful to consider so many neighbors (because everyone is \"close\").\n",
    "\n",
    "The peak value for KNN classification F score is around 0.46 at K=7\n",
    "\n",
    "**Multinomial NB vs Logistic Regression**\n",
    "\n",
    "https://medium.com/@sangha_deb/naive-bayes-vs-logistic-regression-a319b07a5d4c\n",
    "\n",
    "The best performing logistic model is when C=0.5 with F1 score = 0.708\n",
    "\n",
    "The best performing multinomial NB model is when alpha =0.1 with F1 score = 0.79\n",
    "\n",
    "The above article describes that \"when the training size reaches infinity the discriminative model, ie, logistic regression performs better than the generative model, ie, Naive Bayes. The generative model reaches its asymptotic faster (O(log n)) than the discriminative model (O(n)), ie, the generative model (Naive Bayes) reaches the asymptotic solution for fewer training sets than the discriminative model (Logistic Regression)\". In our dataset, we have only around 2k training examples - which is relatively small. Thus, in such a setting NB performs better than logistic regression.\n",
    "\n",
    "\n",
    "**Relationship between C and SSQ**\n",
    "\n",
    "From the above, we can think of C as an inverse of the traditional regularization parameter, lambda. That is, when C is large, we're hardly regularizing the weights but when C is small, we are heavily regularizing the weights. Thus, during high regularization (C is small), we see smaller sum of squares on the weights - we're penalizing unnecessary features highly and being parsimonious. When C is large, we're allowing more features' weights to creep into the model, thus SSQ is large.\n"
   ]
  },
  {
   "cell_type": "markdown",
   "metadata": {
    "colab_type": "text",
    "id": "dGEjsm_uFsxr"
   },
   "source": [
    "### Part 4:\n",
    "\n",
    "Transform the data to a matrix of word **bigram** feature vectors.  Produce a Logistic Regression model.  For each topic, find the 5 features with the largest weights (that's 20 features in total).  Show a 20 row (features) x 4 column (topics) table of the weights.\n",
    "\n",
    "Do you see any surprising features in this table?\n",
    "\n",
    "Notes:\n",
    "* Train on the transformed training data.\n",
    "* You can use `CountVectorizer` and its `.fit_transform` method to transform data.\n",
    "* You can use `LogisticRegression(C=0.5, solver=\"liblinear\", multi_class=\"auto\")` to produce a Logistic Regression model.\n",
    "* You can use `LogisticRegression`'s `.coef_` method to get weights for each topic.\n",
    "* You can use `np.argsort` to get indices sorted by element value. "
   ]
  },
  {
   "cell_type": "code",
   "execution_count": null,
   "metadata": {
    "colab": {},
    "colab_type": "code",
    "id": "WN51Nv4fFsxs"
   },
   "outputs": [],
   "source": [
    "#def P4():\n",
    "    ### STUDENT START ###\n",
    "    ### STUDENT END ###\n",
    "'''\n",
    "\n",
    "comp graphics\n",
    "in there\n",
    "in advance\n",
    "looking for\n",
    "\n",
    "\n",
    "atheism\n",
    "was just\n",
    "look up?? (maybe)\n",
    "are you -\n",
    "you are\n",
    "is not\n",
    "in this\n",
    "was just\n",
    "cheers kent?\n",
    "\n",
    "see image - for table\n",
    "\n",
    "atheism - 0.229 as a weight\n",
    "\n",
    "SURPRISING PART\n",
    "cheers kent - appears twice - this is probably the signature under the end of the message\n",
    "\n",
    "fbi appears in religion\n",
    "\n",
    "these params \n",
    "'''\n",
    "#P4()"
   ]
  },
  {
   "cell_type": "markdown",
   "metadata": {
    "colab_type": "text",
    "id": "cY67F-tXFsxt"
   },
   "source": [
    "ANSWER:"
   ]
  },
  {
   "cell_type": "markdown",
   "metadata": {
    "colab_type": "text",
    "id": "rVWhSJHHFsxu"
   },
   "source": [
    "### Part 5:\n",
    "\n",
    "To improve generalization, it is common to try preprocessing text in various ways before splitting into words. For example, you could try transforming strings to lower case, replacing sequences of numbers with single tokens, removing various non-letter characters, and shortening long words.\n",
    "\n",
    "Produce a Logistic Regression model (with no preprocessing of text).  Evaluate and show its f1 score and size of the dictionary.\n",
    "\n",
    "Produce an improved Logistic Regression model by preprocessing the text.  Evaluate and show its f1 score and size of the vocabulary.  Try for an improvement in f1 score of at least 0.02.\n",
    "\n",
    "How much did the improved model reduce the vocabulary size?\n",
    "\n",
    "Notes:\n",
    "* Train on the transformed training data.\n",
    "* Evaluate on the transformed development data.\n",
    "* You can use `CountVectorizer(preprocessor=...)` to preprocess strings with your own custom-defined function.\n",
    "* `CountVectorizer` default is to preprocess strings to lower case.\n",
    "* You can use `LogisticRegression(C=0.5, solver=\"liblinear\", multi_class=\"auto\")` to produce a logistic regression model.\n",
    "* You can use `metrics.f1_score(..., average=\"weighted\")` to compute f1 score.\n",
    "* If you're not already familiar with regular expressions for manipulating strings, see https://docs.python.org/2/library/re.html, and re.sub() in particular."
   ]
  },
  {
   "cell_type": "code",
   "execution_count": null,
   "metadata": {
    "colab": {},
    "colab_type": "code",
    "id": "l7gS3cGpFsxv"
   },
   "outputs": [],
   "source": [
    "#def better_preprocessor(s):\n",
    "    ### STUDENT START ###\n",
    "    ### STUDENT END ###\n",
    "\n",
    "#def P5():\n",
    "    ### STUDENT START ###\n",
    "    ### STUDENT END ###\n",
    "'''\n",
    "we have to use bigrams for 5-7\n",
    "0.02 - may or maynot get this improvement (more like 1.8 percent improvement)\n",
    "\n",
    "bigrams - 194k features\n",
    "\n",
    "feature preprocessing\n",
    "lower case, change numbers to num, remove plurals (remove es plurals to empty),\n",
    "remove ending with ing etc.\n",
    "replace underscore with space (no benefit in f1 score)\n",
    "\n",
    "baseline f1 for bigrams - 0.607 \n",
    ".689 unigrams baseline without preprocessing\n",
    "\n",
    "\n",
    "unigram - original and better (preprocessing) one\n",
    "bigram - original and better (preprocessing) one\n",
    "\n",
    "porter stemming in nltk improves 25 basis points \n",
    "lamitization in nltk improves 25 basis points\n",
    "\n",
    "maybe use document frequency > 10 as a filter criteria to reduce the vocab\n",
    "\n",
    "'''\n",
    "#P5()"
   ]
  },
  {
   "cell_type": "markdown",
   "metadata": {
    "colab_type": "text",
    "id": "Uy-WITbNFsxw"
   },
   "source": [
    "### Part 6:\n",
    "\n",
    "The idea of regularization is to avoid learning very large weights (which are likely to fit the training data, but not generalize well) by adding a penalty to the total size of the learned weights. Logistic regression seeks the set of weights that minimizes errors in the training data AND has a small total size. The default L2 regularization computes this size as the sum of the squared weights (as in Part 3 above). L1 regularization computes this size as the sum of the absolute values of the weights. Whereas L2 regularization makes all the weights relatively small, L1 regularization drives many of the weights to 0, effectively removing unimportant features.\n",
    "\n",
    "For several L1 regularization strengths ...<br/>\n",
    "* Produce a Logistic Regression model using the **L1** regularization strength.  Reduce the vocabulary to only those features that have at least one non-zero weight among the four categories.  Produce a new Logistic Regression model using the reduced vocabulary and **L2** regularization strength of 0.5.  Evaluate and show the L1 regularization strength, vocabulary size, and f1 score associated with the new model.\n",
    "\n",
    "Show a plot of f1 score vs. log vocabulary size.  Each point corresponds to a specific L1 regularization strength used to reduce the vocabulary.\n",
    "\n",
    "How does performance of the models based on reduced vocabularies compare to that of a model based on the full vocabulary?\n",
    "\n",
    "Notes:\n",
    "* Train on the transformed training data.\n",
    "* Evaluate on the transformed development data.\n",
    "* You can use `LogisticRegression(..., penalty=\"l1\")` to produce a logistic regression model using L1 regularization.\n",
    "* You can use `LogisticRegression(..., penalty=\"l2\")` to produce a logistic regression model using L2 regularization.\n",
    "* You can use `LogisticRegression(..., tol=0.015)` to produce a logistic regression model using relaxed gradient descent convergence criteria.  The gradient descent code that trains the logistic regression model sometimes has trouble converging with extreme settings of the C parameter. Relax the convergence criteria by setting tol=.015 (the default is .0001)."
   ]
  },
  {
   "cell_type": "code",
   "execution_count": null,
   "metadata": {
    "colab": {},
    "colab_type": "code",
    "id": "l6ho31SrFsxx"
   },
   "outputs": [],
   "source": [
    "#def P6():\n",
    "    # Keep this random seed here to make comparison easier.\n",
    "    #np.random.seed(0)\n",
    "    \n",
    "    ### STUDENT START ###\n",
    "    ### STUDENT END ###\n",
    "'''\n",
    "c=0.5 unigram, curve wasnt linear - shot up fast and then decreases\n",
    "\n",
    "c value of 1 is optimal, vocab = 2419 or 1681 (bigrams - was used for this)\n",
    "c=.6\n",
    "THERE IS NO CONSENSUS ON THE C VALUE HERE, PEOPLE ARE GETTING 0.5,1 AND EVEN UP TO 30\n",
    "\n",
    "L1 is a feature selector, use this to feed into the other model l2 to get the f1\n",
    "\n",
    "I did it this way to obtain features with non-zero weights and calculate the size:\n",
    "    nonzero_features = np.unique(np.nonzero(lr1.coef_)[1])\n",
    "    nonzero_vocab = np.array(cv.get_feature_names())\n",
    "    vocab_size = len(nonzero_vocab)\n",
    "\n",
    "c=0.5 in the problem description\n",
    "'''\n",
    "#P6()"
   ]
  },
  {
   "cell_type": "markdown",
   "metadata": {
    "colab_type": "text",
    "id": "bZmIPwExFsx1"
   },
   "source": [
    "ANSWER:"
   ]
  },
  {
   "cell_type": "markdown",
   "metadata": {
    "colab_type": "text",
    "id": "QmrHf8AMFsxz"
   },
   "source": [
    "### Part 7:\n",
    "\n",
    "How is `TfidfVectorizer` different than `CountVectorizer`?\n",
    "\n",
    "Produce a Logistic Regression model based on data represented in tf-idf form, with L2 regularization strength of 100.  Evaluate and show the f1 score.  How is `TfidfVectorizer` different than `CountVectorizer`?\n",
    "\n",
    "Show the 3 documents with highest R ratio, where ...<br/>\n",
    "$R\\,ratio = maximum\\,predicted\\,probability \\div predicted\\,probability\\,of\\,correct\\,label$\n",
    "\n",
    "Explain what the R ratio describes.  What kinds of mistakes is the model making? Suggest a way to address one particular issue that you see.\n",
    "\n",
    "Note:\n",
    "* Train on the transformed training data.\n",
    "* Evaluate on the transformed development data.\n",
    "* You can use `TfidfVectorizer` and its `.fit_transform` method to transform data to tf-idf form.\n",
    "* You can use `LogisticRegression(C=100, solver=\"liblinear\", multi_class=\"auto\")` to produce a logistic regression model.\n",
    "* You can use `LogisticRegression`'s `.predict_proba` method to access predicted probabilities."
   ]
  },
  {
   "cell_type": "code",
   "execution_count": null,
   "metadata": {
    "colab": {},
    "colab_type": "code",
    "id": "8vwU_9t2Fsx0"
   },
   "outputs": [],
   "source": [
    "#def P7():\n",
    "    ### STUDENT START ###\n",
    "    ### STUDENT END ###\n",
    "'''\n",
    "bigram, 0.69\n",
    "\n",
    "book of mormon - i am pleased to announce\n",
    "why is the ....jesus OR (24 children)\n",
    "book of mormon\n",
    "\n",
    "\n",
    "indices of the docs\n",
    "215,667,615\n",
    "471,215,665\n",
    "\n",
    "r ratio can be derived from predicted_proba\n",
    "for index 665 =663.333\n",
    "index 215=476, 168\n",
    "index 471 = 236, 94\n",
    "\n",
    "'''\n",
    "#P7()"
   ]
  },
  {
   "cell_type": "markdown",
   "metadata": {
    "colab_type": "text",
    "id": "bZmIPwExFsx1"
   },
   "source": [
    "ANSWER:"
   ]
  },
  {
   "cell_type": "markdown",
   "metadata": {
    "colab_type": "text",
    "id": "VmsDxtzoFsx1"
   },
   "source": [
    "### Part 8 EXTRA CREDIT:\n",
    "\n",
    "Produce a Logistic Regression model to implement your suggestion from Part 7."
   ]
  },
  {
   "cell_type": "code",
   "execution_count": null,
   "metadata": {
    "colab": {},
    "colab_type": "code",
    "id": "ZMaqe8c5Fsx2"
   },
   "outputs": [],
   "source": []
  }
 ],
 "metadata": {
  "colab": {
   "collapsed_sections": [],
   "name": "firstname_lastname_p2.ipynb",
   "private_outputs": true,
   "provenance": [
    {
     "file_id": "https://github.com/MIDS-W207/Master/blob/master/Projects/firstname_lastname_p2.ipynb",
     "timestamp": 1559779272103
    }
   ],
   "version": "0.3.2"
  },
  "kernelspec": {
   "display_name": "Python 3",
   "language": "python",
   "name": "python3"
  },
  "language_info": {
   "codemirror_mode": {
    "name": "ipython",
    "version": 3
   },
   "file_extension": ".py",
   "mimetype": "text/x-python",
   "name": "python",
   "nbconvert_exporter": "python",
   "pygments_lexer": "ipython3",
   "version": "3.7.4"
  },
  "toc": {
   "base_numbering": 1,
   "nav_menu": {},
   "number_sections": false,
   "sideBar": true,
   "skip_h1_title": true,
   "title_cell": "Table of Contents",
   "title_sidebar": "Contents",
   "toc_cell": false,
   "toc_position": {},
   "toc_section_display": true,
   "toc_window_display": false
  }
 },
 "nbformat": 4,
 "nbformat_minor": 1
}
