{
 "cells": [
  {
   "cell_type": "markdown",
   "metadata": {
    "colab_type": "text",
    "id": "6t55qCf3Fsxa"
   },
   "source": [
    "# Project 2: Topic Classification"
   ]
  },
  {
   "cell_type": "markdown",
   "metadata": {
    "colab_type": "text",
    "id": "j9-9G8z4Fsxd"
   },
   "source": [
    "In this project, you'll work with text data from newsgroup posts on a variety of topics. You'll train classifiers to distinguish posts by topics inferred from the text. Whereas with digit classification, where each input is relatively dense (represented as a 28x28 matrix of pixels, many of which are non-zero), here each document is relatively sparse (represented as a bag-of-words). Only a few words of the total vocabulary are active in any given document. The assumption is that a label depends only on the count of words, not their order.\n",
    "\n",
    "The `sklearn` documentation on feature extraction may be useful:\n",
    "http://scikit-learn.org/stable/modules/feature_extraction.html\n",
    "\n",
    "Each problem can be addressed succinctly with the included packages -- please don't add any more. Grading will be based on writing clean, commented code, along with a few short answers.\n",
    "\n",
    "As always, you're welcome to work on the project in groups and discuss ideas on Slack, but <b> please prepare your own write-up with your own code. </b>"
   ]
  },
  {
   "cell_type": "code",
   "execution_count": 1,
   "metadata": {
    "colab": {},
    "colab_type": "code",
    "id": "AUYW83LqFsxd"
   },
   "outputs": [],
   "source": [
    "# This tells matplotlib not to try opening a new window for each plot.\n",
    "%matplotlib inline\n",
    "\n",
    "# General libraries.\n",
    "import re\n",
    "import numpy as np\n",
    "import matplotlib.pyplot as plt\n",
    "\n",
    "# SK-learn libraries for learning.\n",
    "from sklearn.pipeline import Pipeline\n",
    "from sklearn.neighbors import KNeighborsClassifier\n",
    "from sklearn.linear_model import LogisticRegression\n",
    "from sklearn.naive_bayes import BernoulliNB\n",
    "from sklearn.naive_bayes import MultinomialNB\n",
    "\n",
    "# SK-learn libraries for evaluation.\n",
    "from sklearn.metrics import confusion_matrix\n",
    "from sklearn import metrics\n",
    "from sklearn.metrics import classification_report\n",
    "\n",
    "# SK-learn library for importing the newsgroup data.\n",
    "from sklearn.datasets import fetch_20newsgroups\n",
    "\n",
    "# SK-learn libraries for feature extraction from text.\n",
    "from sklearn.feature_extraction.text import *\n",
    "\n",
    "import nltk"
   ]
  },
  {
   "cell_type": "markdown",
   "metadata": {
    "colab_type": "text",
    "id": "_ALNjGgCFsxg"
   },
   "source": [
    "Load the data, stripping out metadata so that only textual features will be used, and restricting documents to 4 specific topics. By default, newsgroups data is split into training and test sets, but here the test set gets further split into development and test sets.  (If you remove the categories argument from the fetch function calls, you'd get documents from all 20 topics.)"
   ]
  },
  {
   "cell_type": "code",
   "execution_count": 2,
   "metadata": {
    "colab": {},
    "colab_type": "code",
    "id": "ecYpcoxaFsxh"
   },
   "outputs": [
    {
     "name": "stdout",
     "output_type": "stream",
     "text": [
      "training label shape: (2034,)\n",
      "dev label shape: (676,)\n",
      "test label shape: (677,)\n",
      "labels names: ['alt.atheism', 'comp.graphics', 'sci.space', 'talk.religion.misc']\n"
     ]
    }
   ],
   "source": [
    "categories = ['alt.atheism', 'talk.religion.misc', 'comp.graphics', 'sci.space']\n",
    "newsgroups_train = fetch_20newsgroups(subset='train',\n",
    "                                      remove=('headers', 'footers', 'quotes'),\n",
    "                                      categories=categories)\n",
    "newsgroups_test  = fetch_20newsgroups(subset='test',\n",
    "                                      remove=('headers', 'footers', 'quotes'),\n",
    "                                      categories=categories)\n",
    "\n",
    "num_test = int(len(newsgroups_test.target) / 2)\n",
    "test_data, test_labels   = newsgroups_test.data[num_test:], newsgroups_test.target[num_test:]\n",
    "dev_data, dev_labels     = newsgroups_test.data[:num_test], newsgroups_test.target[:num_test]\n",
    "train_data, train_labels = newsgroups_train.data, newsgroups_train.target\n",
    "\n",
    "print('training label shape:', train_labels.shape)\n",
    "print('dev label shape:',      dev_labels.shape)\n",
    "print('test label shape:',     test_labels.shape)\n",
    "print('labels names:',         newsgroups_train.target_names)"
   ]
  },
  {
   "cell_type": "markdown",
   "metadata": {
    "colab_type": "text",
    "id": "OHTnOke6Fsxk"
   },
   "source": [
    "### Part 1:\n",
    "\n",
    "For each of the first 5 training examples, print the text of the message along with the label."
   ]
  },
  {
   "cell_type": "code",
   "execution_count": 3,
   "metadata": {
    "colab": {},
    "colab_type": "code",
    "id": "X8zhA06xFsxl"
   },
   "outputs": [
    {
     "name": "stdout",
     "output_type": "stream",
     "text": [
      "\u001b[1mMessage for example number 0 with label 1 (comp.graphics) is\u001b[0m\n",
      "\u001b[94mHi,\n",
      "\n",
      "I've noticed that if you only save a model (with all your mapping planes\n",
      "positioned carefully) to a .3DS file that when you reload it after restarting\n",
      "3DS, they are given a default position and orientation.  But if you save\n",
      "to a .PRJ file their positions/orientation are preserved.  Does anyone\n",
      "know why this information is not stored in the .3DS file?  Nothing is\n",
      "explicitly said in the manual about saving texture rules in the .PRJ file. \n",
      "I'd like to be able to read the texture rule information, does anyone have \n",
      "the format for the .PRJ file?\n",
      "\n",
      "Is the .CEL file format available from somewhere?\n",
      "\n",
      "Rych\u001b[0m\n",
      "\n",
      "\u001b[1mMessage for example number 1 with label 3 (talk.religion.misc) is\u001b[0m\n",
      "\u001b[94m\n",
      "\n",
      "Seems to be, barring evidence to the contrary, that Koresh was simply\n",
      "another deranged fanatic who thought it neccessary to take a whole bunch of\n",
      "folks with him, children and all, to satisfy his delusional mania. Jim\n",
      "Jones, circa 1993.\n",
      "\n",
      "\n",
      "Nope - fruitcakes like Koresh have been demonstrating such evil corruption\n",
      "for centuries.\u001b[0m\n",
      "\n",
      "\u001b[1mMessage for example number 2 with label 2 (sci.space) is\u001b[0m\n",
      "\u001b[94m\n",
      " >In article <1993Apr19.020359.26996@sq.sq.com>, msb@sq.sq.com (Mark Brader) \n",
      "\n",
      "MB>                                                             So the\n",
      "MB> 1970 figure seems unlikely to actually be anything but a perijove.\n",
      "\n",
      "JG>Sorry, _perijoves_...I'm not used to talking this language.\n",
      "\n",
      "Couldn't we just say periapsis or apoapsis?\n",
      "\n",
      " \u001b[0m\n",
      "\n",
      "\u001b[1mMessage for example number 3 with label 0 (alt.atheism) is\u001b[0m\n",
      "\u001b[94mI have a request for those who would like to see Charley Wingate\n",
      "respond to the \"Charley Challenges\" (and judging from my e-mail, there\n",
      "appear to be quite a few of you.)  \n",
      "\n",
      "It is clear that Mr. Wingate intends to continue to post tangential or\n",
      "unrelated articles while ingoring the Challenges themselves.  Between\n",
      "the last two re-postings of the Challenges, I noted perhaps a dozen or\n",
      "more posts by Mr. Wingate, none of which answered a single Challenge.  \n",
      "\n",
      "It seems unmistakable to me that Mr. Wingate hopes that the questions\n",
      "will just go away, and he is doing his level best to change the\n",
      "subject.  Given that this seems a rather common net.theist tactic, I\n",
      "would like to suggest that we impress upon him our desire for answers,\n",
      "in the following manner:\n",
      "\n",
      "1. Ignore any future articles by Mr. Wingate that do not address the\n",
      "Challenges, until he answers them or explictly announces that he\n",
      "refuses to do so.\n",
      "\n",
      "--or--\n",
      "\n",
      "2. If you must respond to one of his articles, include within it\n",
      "something similar to the following:\n",
      "\n",
      "    \"Please answer the questions posed to you in the Charley Challenges.\"\n",
      "\n",
      "Really, I'm not looking to humiliate anyone here, I just want some\n",
      "honest answers.  You wouldn't think that honesty would be too much to\n",
      "ask from a devout Christian, would you?  \n",
      "\n",
      "Nevermind, that was a rhetorical question.\u001b[0m\n",
      "\n",
      "\u001b[1mMessage for example number 4 with label 2 (sci.space) is\u001b[0m\n",
      "\u001b[94mAW&ST  had a brief blurb on a Manned Lunar Exploration confernce\n",
      "May 7th  at Crystal City Virginia, under the auspices of AIAA.\n",
      "\n",
      "Does anyone know more about this?  How much, to attend????\n",
      "\n",
      "Anyone want to go?\u001b[0m\n",
      "\n"
     ]
    }
   ],
   "source": [
    "# https://stackoverflow.com/questions/8924173/how-do-i-print-bold-text-in-python\n",
    "class color:\n",
    "   PURPLE = '\\033[95m'\n",
    "   CYAN = '\\033[96m'\n",
    "   DARKCYAN = '\\033[36m'\n",
    "   BLUE = '\\033[94m'\n",
    "   GREEN = '\\033[92m'\n",
    "   YELLOW = '\\033[93m'\n",
    "   RED = '\\033[91m'\n",
    "   BOLD = '\\033[1m'\n",
    "   UNDERLINE = '\\033[4m'\n",
    "   END = '\\033[0m'\n",
    "    \n",
    "def P1(num_examples=5):\n",
    "    for i in range(num_examples):\n",
    "        print (color.BOLD + \"Message for example number {0} with label {1} ({2}) is\".format(i, train_labels[i], newsgroups_train.target_names[train_labels[i]]) + color.END)\n",
    "        print(color.BLUE + train_data[i] + color.END)\n",
    "        print()\n",
    "P1(5)"
   ]
  },
  {
   "cell_type": "markdown",
   "metadata": {
    "colab_type": "text",
    "id": "onfno6uHFsxm"
   },
   "source": [
    "### Part 2:\n",
    "\n",
    "Transform the training data into a matrix of **word** unigram feature vectors.  What is the size of the vocabulary? What is the average number of non-zero features per example?  What is the fraction of the non-zero entries in the matrix?  What are the 0th and last feature strings (in alphabetical order)?<br/>\n",
    "_Use `CountVectorization` and its `.fit_transform` method.  Use `.nnz` and `.shape` attributes, and `.get_feature_names` method._\n",
    "\n",
    "Now transform the training data into a matrix of **word** unigram feature vectors using your own vocabulary with these 4 words: [\"atheism\", \"graphics\", \"space\", \"religion\"].  Confirm the size of the vocabulary. What is the average number of non-zero features per example?<br/>\n",
    "_Use `CountVectorization(vocabulary=...)` and its `.transform` method._\n",
    "\n",
    "Now transform the training data into a matrix of **character** bigram and trigram feature vectors.  What is the size of the vocabulary?<br/>\n",
    "_Use `CountVectorization(analyzer=..., ngram_range=...)` and its `.fit_transform` method._\n",
    "\n",
    "Now transform the training data into a matrix of **word** unigram feature vectors and prune words that appear in fewer than 10 documents.  What is the size of the vocabulary?<br/>\n",
    "_Use `CountVectorization(min_df=...)` and its `.fit_transform` method._\n",
    "\n",
    "Now again transform the training data into a matrix of **word** unigram feature vectors. What is the fraction of words in the development vocabulary that is missing from the training vocabulary?<br/>\n",
    "_Hint: Build vocabularies for both train and dev and look at the size of the difference._\n",
    "\n",
    "Notes:\n",
    "* `.fit_transform` makes 2 passes through the data: first it computes the vocabulary (\"fit\"), second it converts the raw text into feature vectors using the vocabulary (\"transform\").\n",
    "* `.fit_transform` and `.transform` return sparse matrix objects.  See about them at http://docs.scipy.org/doc/scipy-0.14.0/reference/generated/scipy.sparse.csr_matrix.html.  "
   ]
  },
  {
   "cell_type": "code",
   "execution_count": 4,
   "metadata": {
    "colab": {},
    "colab_type": "code",
    "id": "LyVwk5RvFsxn"
   },
   "outputs": [
    {
     "name": "stdout",
     "output_type": "stream",
     "text": [
      "\u001b[1m[Standard]\u001b[0m The size of the vocabulary is 26879\n",
      "\u001b[1m[Standard]\u001b[0m The first feature alphabetically is 00\n",
      "\u001b[1m[Standard]\u001b[0m The last feature alphabetically is zyxel\n",
      "\u001b[1m[Standard]\u001b[0m The average number of non-zero features per example is 96.70599803343165\n",
      "\u001b[1m[Standard]\u001b[0m The fraction of the non-zero entries in the matrix is 0.5215127315919528\n",
      "\u001b[1m[Custom Vocab]\u001b[0m The custom vocab size is 4 and expected size is 4\n",
      "{'atheism': 0, 'graphics': 1, 'space': 2, 'religion': 3}\n",
      "\u001b[1m[Custom Vocab]\u001b[0m The average number of non-zero features per example is 0.26843657817109146\n",
      "\u001b[1m[Character n-grams]\u001b[0m The size of the vocabulary is 35478\n",
      "\u001b[1m[Min word freq]\u001b[0m The size of the vocabulary is 3064\n",
      "Fraction of words in dev vocab that are not in the training vocab are 0.24787640034470024\n"
     ]
    }
   ],
   "source": [
    "def P2():\n",
    "    # by default, analyzer is word - so we have word n-grams\n",
    "    vectorizer = CountVectorizer()\n",
    "    vec_result = vectorizer.fit_transform(train_data)\n",
    "    \n",
    "    print(color.BOLD + \"[Standard]\" + color.END + \" The size of the vocabulary is {0}\".format(len(vectorizer.vocabulary_)))\n",
    "    # print(vec_result.toarray())\n",
    "    \n",
    "    print(color.BOLD + \"[Standard]\" + color.END + \" The first feature alphabetically is {0}\".format(vectorizer.get_feature_names()[0]))\n",
    "    print(color.BOLD + \"[Standard]\" + color.END + \" The last feature alphabetically is {0}\".format(vectorizer.get_feature_names()[-1]))\n",
    "    \n",
    "    # count all non zero elements per example in the result vector\n",
    "    nonzero = np.count_nonzero(vec_result.toarray(), axis=1)\n",
    "    \n",
    "    print(color.BOLD + \"[Standard]\" + color.END + \" The average number of non-zero features per example is {0}\".format(np.average(nonzero)))\n",
    "    print(color.BOLD + \"[Standard]\" + color.END + \" The fraction of the non-zero entries in the matrix is {0}\".format(np.sum(nonzero)/np.sum(vec_result.toarray())))\n",
    "    \n",
    "    custom_vocab = [\"atheism\", \"graphics\", \"space\", \"religion\"]\n",
    "    vectorizer = CountVectorizer(vocabulary=custom_vocab)\n",
    "    vec_result = vectorizer.transform(train_data)\n",
    "    print(color.BOLD + \"[Custom Vocab]\" + color.END +\" The custom vocab size is {0} and expected size is {1}\".format(len(vectorizer.vocabulary_), len(custom_vocab)))\n",
    "    print(vectorizer.vocabulary_)\n",
    "    \n",
    "    nonzero = np.count_nonzero(vec_result.toarray(), axis=1)\n",
    "    print(color.BOLD + \"[Custom Vocab]\" + color.END +\" The average number of non-zero features per example is {0}\".format(np.average(nonzero)))\n",
    "\n",
    "    # make analyzer to be string, so we have char n-grams\n",
    "    vectorizer = CountVectorizer(analyzer=\"char\", ngram_range=(2,3))\n",
    "    vec_result = vectorizer.fit_transform(train_data)\n",
    "    print(color.BOLD + \"[Character n-grams]\" + color.END + \" The size of the vocabulary is {0}\".format(len(vectorizer.vocabulary_)))\n",
    "    \n",
    "    # prune words that appear in fewer than 10 docs\n",
    "    vectorizer = CountVectorizer(min_df=10)\n",
    "    vec_result = vectorizer.fit_transform(train_data)\n",
    "    print(color.BOLD + \"[Min word freq]\" + color.END + \" The size of the vocabulary is {0}\".format(len(vectorizer.vocabulary_)))\n",
    "    \n",
    "    vectorizer_train = CountVectorizer()\n",
    "    vec_result_train = vectorizer_train.fit_transform(train_data)\n",
    "\n",
    "    vectorizer_dev = CountVectorizer()\n",
    "    vec_result_dev = vectorizer_dev.fit_transform(dev_data)\n",
    "    \n",
    "    diffkeys = [k for k in vectorizer_dev.vocabulary_ if k not in vectorizer_train.vocabulary_]\n",
    "    print(\"Fraction of words in dev vocab that are not in the training vocab are {0}\".format(len(diffkeys)/len(vectorizer_dev.vocabulary_)))\n",
    "    \n",
    "\n",
    "P2()"
   ]
  },
  {
   "cell_type": "markdown",
   "metadata": {
    "colab_type": "text",
    "id": "ydjkRh6LFsxp"
   },
   "source": [
    "### Part 3:\n",
    "\n",
    "Transform the training and development data to matrices of word unigram feature vectors.\n",
    "\n",
    "1. Produce several k-Nearest Neigbors models by varying k, including one with k set to optimize f1 score.  For each model, show the k value and f1 score.\n",
    "1. Produce several Naive Bayes models by varying smoothing (alpha), including one with alpha set approximately to optimize f1 score.  For each model, show the alpha value and f1 score.\n",
    "1. Produce several Logistic Regression models by varying L2 regularization strength (C), including one with C set approximately to optimize f1 score.  For each model, show the C value, f1 score, and sum of squared weights for each topic.\n",
    "\n",
    "* Why doesn't k-Nearest Neighbors work well for this problem?\n",
    "* Why doesn't Logistic Regression work as well as Naive Bayes does?\n",
    "* What is the relationship between logistic regression's sum of squared weights vs. C value?\n",
    "\n",
    "Notes:\n",
    "* Train on the transformed training data.\n",
    "* Evaluate on the transformed development data.\n",
    "* You can use `CountVectorizer` and its `.fit_transform` and `.transform` methods to transform data.\n",
    "* You can use `KNeighborsClassifier(...)` to produce a k-Nearest Neighbors model.\n",
    "* You can use `MultinomialNB(...)` to produce a Naive Bayes model.\n",
    "* You can use `LogisticRegression(C=..., solver=\"liblinear\", multi_class=\"auto\")` to produce a Logistic Regression model.\n",
    "* You can use `LogisticRegression`'s `.coef_` method to get weights for each topic.\n",
    "* You can use `metrics.f1_score(..., average=\"weighted\")` to compute f1 score."
   ]
  },
  {
   "cell_type": "code",
   "execution_count": 5,
   "metadata": {
    "colab": {},
    "colab_type": "code",
    "id": "VvhpODdWFsxp"
   },
   "outputs": [
    {
     "name": "stdout",
     "output_type": "stream",
     "text": [
      "Shape of the training set is (2034, 26879)\n",
      "Shape of the dev set is (676, 26879)\n",
      "\u001b[1m[KNN]\u001b[0m For k =1, the F1 score is 0.39471048126424524\n",
      "\u001b[1m[KNN]\u001b[0m For k =4, the F1 score is 0.44061615064622817\n",
      "\u001b[1m[KNN]\u001b[0m For k =7, the F1 score is 0.46603879404544657\n",
      "\u001b[1m[KNN]\u001b[0m For k =10, the F1 score is 0.4444765532323276\n",
      "\u001b[1m[KNN]\u001b[0m For k =13, the F1 score is 0.4273744719838095\n",
      "\u001b[1m[KNN]\u001b[0m For k =16, the F1 score is 0.43002170039301457\n",
      "\u001b[1m[KNN]\u001b[0m For k =19, the F1 score is 0.43352736669578024\n",
      "\u001b[1m[MultiNomial NB]\u001b[0m For alpha =1e-10, the F1 score is 0.747240657284563\n",
      "\u001b[1m[MultiNomial NB]\u001b[0m For alpha =0.0001, the F1 score is 0.7628348704826354\n",
      "\u001b[1m[MultiNomial NB]\u001b[0m For alpha =0.001, the F1 score is 0.7702518836155706\n",
      "\u001b[1m[MultiNomial NB]\u001b[0m For alpha =0.01, the F1 score is 0.7751663218544357\n",
      "\u001b[1m[MultiNomial NB]\u001b[0m For alpha =0.1, the F1 score is 0.7903052385098862\n",
      "\u001b[1m[MultiNomial NB]\u001b[0m For alpha =0.5, the F1 score is 0.7862862961995258\n",
      "\u001b[1m[MultiNomial NB]\u001b[0m For alpha =1.0, the F1 score is 0.7777320236017224\n",
      "\u001b[1m[MultiNomial NB]\u001b[0m For alpha =2.0, the F1 score is 0.7689966472342658\n",
      "\u001b[1m[MultiNomial NB]\u001b[0m For alpha =10.0, the F1 score is 0.6674814338256576\n"
     ]
    },
    {
     "name": "stderr",
     "output_type": "stream",
     "text": [
      "C:\\Users\\abhisha.REDMOND\\AppData\\Local\\Continuum\\anaconda3\\lib\\site-packages\\sklearn\\metrics\\classification.py:1437: UndefinedMetricWarning: F-score is ill-defined and being set to 0.0 in labels with no predicted samples.\n",
      "  'precision', 'predicted', average, warn_for)\n"
     ]
    },
    {
     "name": "stdout",
     "output_type": "stream",
     "text": [
      "\u001b[1m[Logistic Regression]\u001b[0m For C =1e-10, F1 score: 0.20641155283594254, SSQ: [5.70674183e-13 8.45299474e-13 4.04006981e-13 6.35819484e-13]\n",
      "\u001b[1m[Logistic Regression]\u001b[0m For C =0.0001, F1 score: 0.5416003218838589, SSQ: [0.00770175 0.0119412  0.00943508 0.00910284]\n",
      "\u001b[1m[Logistic Regression]\u001b[0m For C =0.001, F1 score: 0.6193046812006844, SSQ: [0.16509345 0.20095275 0.18067094 0.18724278]\n",
      "\u001b[1m[Logistic Regression]\u001b[0m For C =0.01, F1 score: 0.6646997417582748, SSQ: [2.54149597 2.93970937 2.86246884 2.25002867]\n",
      "\u001b[1m[Logistic Regression]\u001b[0m For C =0.1, F1 score: 0.6966243542418833, SSQ: [27.13276422 24.65876272 27.45791178 23.02092251]\n",
      "\u001b[1m[Logistic Regression]\u001b[0m For C =0.5, F1 score: 0.7084739776490449, SSQ: [102.60222594  83.1201744   99.01364429  88.98434638]\n",
      "\u001b[1m[Logistic Regression]\u001b[0m For C =0.7, F1 score: 0.6939142407011022, SSQ: [130.8094896  104.16699008 124.93573965 113.83960131]\n",
      "\u001b[1m[Logistic Regression]\u001b[0m For C =1.0, F1 score: 0.6944172871853819, SSQ: [166.96406144 130.8904599  157.88282512 145.71125673]\n",
      "\u001b[1m[Logistic Regression]\u001b[0m For C =2.0, F1 score: 0.6940391175616126, SSQ: [257.63081206 197.94301097 239.9678541  226.71318397]\n",
      "\u001b[1m[Logistic Regression]\u001b[0m For C =10.0, F1 score: 0.6864036168072823, SSQ: [584.53080597 448.08852555 539.41970751 530.78234875]\n",
      "\u001b[1m[Logistic Regression]\u001b[0m For C =50, F1 score: 0.6826678420044221, SSQ: [1111.21889972  855.79560529 1027.3005308  1035.89938852]\n",
      "\u001b[1m[Logistic Regression]\u001b[0m For C =100, F1 score: 0.6811966141289635, SSQ: [1395.62977809 1081.89934904 1292.63450956 1323.09517193]\n"
     ]
    }
   ],
   "source": [
    "from collections import defaultdict\n",
    "\n",
    "def knn_helper(k_values, train_set, dev_set, train_y, dev_y, verbose=True):\n",
    "    f1_score = defaultdict(list)\n",
    "    \n",
    "    # define knn model\n",
    "    for k in k_values:\n",
    "        neigh = KNeighborsClassifier(n_neighbors=k)\n",
    "        neigh.fit(train_set, train_y)\n",
    "        predictions = neigh.predict(dev_set)\n",
    "        f1_score[k] = metrics.f1_score(dev_y, predictions, average=\"weighted\")\n",
    "    \n",
    "    if verbose:\n",
    "        for k in k_values:\n",
    "            print(color.BOLD + \"[KNN]\" + color.END + \" For k ={0}, the F1 score is {1}\".format(k, f1_score[k]))\n",
    "            \n",
    "    return f1_score\n",
    "\n",
    "def multinomial_nb_helper(alphas, train_set, dev_set, train_y, dev_y, verbose=True):\n",
    "    f1_score = defaultdict(list)\n",
    "    \n",
    "    for a in alphas:\n",
    "        clf = MultinomialNB(alpha=a)\n",
    "        clf.fit(train_set, train_y)\n",
    "        predictions = clf.predict(dev_set)\n",
    "        f1_score[a] = metrics.f1_score(dev_y, predictions, average=\"weighted\")\n",
    "\n",
    "    if verbose:\n",
    "        for a in alphas:\n",
    "            print(color.BOLD + \"[MultiNomial NB]\" + color.END + \" For alpha ={0}, the F1 score is {1}\".format(a, f1_score[a]))\n",
    "    \n",
    "    return f1_score\n",
    "\n",
    "def logistic_reg_helper(l2_reg, train_set, dev_set, train_y, dev_y, max_iteration=100, verbose=True):\n",
    "    result = defaultdict(list)\n",
    "    \n",
    "    for l2 in l2_reg:\n",
    "        clf = LogisticRegression(C=l2, solver=\"liblinear\", multi_class=\"auto\", max_iter=max_iteration)\n",
    "        clf.fit(train_set, train_y)\n",
    "        predictions = clf.predict(dev_set)\n",
    "        \n",
    "        # add relevant attributes for logit to result\n",
    "        result[l2].append(metrics.f1_score(dev_y, predictions, average=\"weighted\"))\n",
    "        result[l2].append(np.sum(clf.coef_ ** 2, axis=1))\n",
    "        result[l2].append(clf.coef_)\n",
    "        \n",
    "    if verbose:\n",
    "        for l2 in l2_reg:\n",
    "            print(color.BOLD + \"[Logistic Regression]\" + color.END + \" For C ={0}, F1 score: {1}, SSQ: {2}\".format(l2, result[l2][0], result[l2][1]))\n",
    "    \n",
    "    return result\n",
    "    \n",
    "def P3():\n",
    "    # prepare dataset\n",
    "    vec = CountVectorizer()\n",
    "    vec_result_train = vec.fit_transform(train_data)\n",
    "    \n",
    "    vec = CountVectorizer(vocabulary=vec.get_feature_names())\n",
    "    vec_result_dev = vec.transform(dev_data)\n",
    "    \n",
    "    print(\"Shape of the training set is {0}\".format(str(vec_result_train.toarray().shape)))\n",
    "    print(\"Shape of the dev set is {0}\".format(str(vec_result_dev.toarray().shape)))\n",
    "    \n",
    "    # perform knn\n",
    "    knn_helper([i for i in range(1, 20, 3)], vec_result_train.toarray(), vec_result_dev.toarray(), train_labels, dev_labels)\n",
    "   \n",
    "    # perform multinomial nb\n",
    "    multinomial_nb_helper([1.0e-10, 0.0001, 0.001, 0.01, 0.1, 0.5, 1.0, 2.0, 10.0], vec_result_train.toarray(), vec_result_dev.toarray(), train_labels, dev_labels)\n",
    "    \n",
    "    # perform logistic regression\n",
    "    logistic_reg_helper([1.0e-10, 0.0001, 0.001, 0.01, 0.1, 0.5, 0.7, 1.0, 2.0, 10.0, 50, 100], vec_result_train.toarray(), vec_result_dev.toarray(), train_labels, dev_labels)\n",
    "\n",
    "P3()"
   ]
  },
  {
   "cell_type": "markdown",
   "metadata": {
    "colab_type": "text",
    "id": "jWtXwAlOFsxr"
   },
   "source": [
    "ANSWER:\n",
    "\n",
    "**KNN**\n",
    "\n",
    "KNN doesnt perform as well due to the curse of dimensionality. As we notice, there are over 25k features in the model.\n",
    "Due to this, not only does KNN run slowest of the 3 models, but its F score also suffers. The feature space is large and its hard to generalize well with small values of K (small compared to the size of the features). We can try to increase the value of K, however, beyond a threshold - increasing K will lose its meaning. For example, it would not be useful to consider (say) 10k neighbors for a data point for classification as its not useful to consider so many neighbors (because everyone is \"close\").\n",
    "\n",
    "The peak value for KNN classification F score is around 0.46 at K=7\n",
    "\n",
    "**Multinomial NB vs Logistic Regression**\n",
    "\n",
    "https://medium.com/@sangha_deb/naive-bayes-vs-logistic-regression-a319b07a5d4c\n",
    "\n",
    "The best performing logistic model is when C=0.50 with F1 score = 0.708\n",
    "\n",
    "The best performing multinomial NB model is when alpha =0.1 with F1 score = 0.79\n",
    "\n",
    "The above article describes that \"when the training size reaches infinity the discriminative model, ie, logistic regression performs better than the generative model, ie, Naive Bayes. The generative model reaches its asymptotic faster (O(log n)) than the discriminative model (O(n)), ie, the generative model (Naive Bayes) reaches the asymptotic solution for fewer training sets than the discriminative model (Logistic Regression)\". In our dataset, we have only around 2k training examples - which is relatively small. Thus, in such a setting NB performs better than logistic regression.\n",
    "\n",
    "\n",
    "**Relationship between C and SSQ**\n",
    "\n",
    "From the above, we can think of C as an inverse of the traditional regularization parameter, lambda. That is, when C is large, we're hardly regularizing the weights but when C is small, we are heavily regularizing the weights. Thus, during high regularization (C is small), we see smaller sum of squares on the weights - we're penalizing unnecessary features highly and being parsimonious. When C is large, we're allowing more features' weights to creep into the model, thus SSQ is large.\n"
   ]
  },
  {
   "cell_type": "markdown",
   "metadata": {
    "colab_type": "text",
    "id": "dGEjsm_uFsxr"
   },
   "source": [
    "### Part 4:\n",
    "\n",
    "Transform the data to a matrix of word **bigram** feature vectors.  Produce a Logistic Regression model.  For each topic, find the 5 features with the largest weights (that's 20 features in total).  Show a 20 row (features) x 4 column (topics) table of the weights.\n",
    "\n",
    "Do you see any surprising features in this table?\n",
    "\n",
    "Notes:\n",
    "* Train on the transformed training data.\n",
    "* You can use `CountVectorizer` and its `.fit_transform` method to transform data.\n",
    "* You can use `LogisticRegression(C=0.5, solver=\"liblinear\", multi_class=\"auto\")` to produce a Logistic Regression model.\n",
    "* You can use `LogisticRegression`'s `.coef_` method to get weights for each topic.\n",
    "* You can use `np.argsort` to get indices sorted by element value. "
   ]
  },
  {
   "cell_type": "code",
   "execution_count": 6,
   "metadata": {
    "colab": {},
    "colab_type": "code",
    "id": "WN51Nv4fFsxs"
   },
   "outputs": [
    {
     "name": "stdout",
     "output_type": "stream",
     "text": [
      "\u001b[1m[Logistic Regression]\u001b[0m For C =0.5, F1 score: 0.607673237840669, SSQ: [111.75537598 118.73154706 123.42664907 100.53142283]\n",
      "\n",
      "\u001b[1malt.atheism\u001b[0m\n",
      "[N Grams] top 5 are ['are you', 'you are', 'was just', 'cheers kent', 'claim that']\n",
      "[Indices] top 5 are [20596, 193317, 184771, 37174, 38326]\n",
      "[Weights] top 5 are [0.4469536835860547, 0.4727407210654848, 0.48205042880406834, 0.5557194352213277, 0.6055485515545411]\n",
      "\n",
      "\u001b[1mcomp.graphics\u001b[0m\n",
      "[N Grams] top 5 are ['is there', 'out there', 'comp graphics', 'in advance', 'looking for']\n",
      "[Indices] top 5 are [88596, 123709, 40451, 81950, 98723]\n",
      "[Weights] top 5 are [0.754978454726191, 0.7586817661616276, 0.8012017496923247, 0.8325706146317984, 1.1083703054211937]\n",
      "\n",
      "\u001b[1msci.space\u001b[0m\n",
      "[N Grams] top 5 are ['it was', 'and such', 'sci space', 'the moon', 'the space']\n",
      "[Indices] top 5 are [90070, 16732, 145068, 165984, 167336]\n",
      "[Weights] top 5 are [0.5253683051458958, 0.590505629590374, 0.6210528733099062, 0.8309978937975367, 0.8710667743882963]\n",
      "\n",
      "\u001b[1mtalk.religion.misc\u001b[0m\n",
      "[N Grams] top 5 are ['of jesus', 'but he', 'ignorance is', 'cheers kent', 'the fbi']\n",
      "[Indices] top 5 are [116318, 32640, 80535, 37174, 164806]\n",
      "[Weights] top 5 are [0.42374465057488475, 0.4918745233180049, 0.504306716949967, 0.5348120382843322, 0.5519926281726447]\n"
     ]
    }
   ],
   "source": [
    "def P4(l2_reg = 0.5, num_features = 5):\n",
    "    # prepare dataset\n",
    "    vec = CountVectorizer(ngram_range=(2,2))\n",
    "    vec_result_train = vec.fit_transform(train_data)\n",
    "    \n",
    "\n",
    "    vec1 = CountVectorizer(ngram_range=(2,2), vocabulary=vec.get_feature_names())\n",
    "    vec_result_dev = vec1.transform(dev_data)\n",
    "    \n",
    "    logit_result = logistic_reg_helper([l2_reg], vec_result_train.toarray(), vec_result_dev.toarray(), train_labels, dev_labels)\n",
    "    \n",
    "    # get the weights for each topic\n",
    "    weights_topic = logit_result[l2_reg][2]\n",
    "    # print(weights_topic.shape)\n",
    "    \n",
    "    result = defaultdict(list)\n",
    "    \n",
    "    # sort the weights row wise for each topic to get indices\n",
    "    ind_topic_sorted_by_wt = np.argsort(weights_topic, axis=1)\n",
    "    \n",
    "    # for each topic\n",
    "    for i in range(len(newsgroups_train.target_names)):\n",
    "        \n",
    "        # get topic name, which will be the key of the \"result\" dict\n",
    "        topic = newsgroups_train.target_names[i]\n",
    "        # print(\"For index {0} the topic name is {1}\".format(i, topic))\n",
    "        \n",
    "        # add indices corresponding to highest N weights (last N values)\n",
    "        result[topic].append(list(ind_topic_sorted_by_wt[i][-num_features:]))\n",
    "        \n",
    "        wts = list()\n",
    "        ngrams = list()\n",
    "        \n",
    "        for idx in result[topic][0]:\n",
    "            # extract the weight corresponding to an index\n",
    "            wts.append(weights_topic[i][idx])\n",
    "            \n",
    "            # not optimal method, but we need to extract the feature val against an index\n",
    "            for k,v in vec1.vocabulary_.items():\n",
    "                if idx == v:\n",
    "                    ngrams.append(k)\n",
    "        \n",
    "        # add weight values corresponding to the highest N weights\n",
    "        result[topic].append(wts)\n",
    "        # add features (n grams) corresponding to the highest N weights\n",
    "        result[topic].append(ngrams)\n",
    "    \n",
    "    for k,v in result.items():\n",
    "        print()\n",
    "        print(color.BOLD + k + color.END)\n",
    "        print(\"[N Grams] top {0} are {1}\".format(num_features, v[2]))\n",
    "        print(\"[Indices] top {0} are {1}\".format(num_features, v[0]))\n",
    "        print(\"[Weights] top {0} are {1}\".format(num_features, v[1]))\n",
    "\n",
    "\n",
    "P4()"
   ]
  },
  {
   "cell_type": "markdown",
   "metadata": {
    "colab_type": "text",
    "id": "cY67F-tXFsxt"
   },
   "source": [
    "ANSWER:"
   ]
  },
  {
   "cell_type": "markdown",
   "metadata": {
    "colab_type": "text",
    "id": "rVWhSJHHFsxu"
   },
   "source": [
    "### Part 5:\n",
    "\n",
    "To improve generalization, it is common to try preprocessing text in various ways before splitting into words. For example, you could try transforming strings to lower case, replacing sequences of numbers with single tokens, removing various non-letter characters, and shortening long words.\n",
    "\n",
    "Produce a Logistic Regression model (with no preprocessing of text).  Evaluate and show its f1 score and size of the dictionary.\n",
    "\n",
    "Produce an improved Logistic Regression model by preprocessing the text.  Evaluate and show its f1 score and size of the vocabulary.  Try for an improvement in f1 score of at least 0.02.\n",
    "\n",
    "How much did the improved model reduce the vocabulary size?\n",
    "\n",
    "Notes:\n",
    "* Train on the transformed training data.\n",
    "* Evaluate on the transformed development data.\n",
    "* You can use `CountVectorizer(preprocessor=...)` to preprocess strings with your own custom-defined function.\n",
    "* `CountVectorizer` default is to preprocess strings to lower case.\n",
    "* You can use `LogisticRegression(C=0.5, solver=\"liblinear\", multi_class=\"auto\")` to produce a logistic regression model.\n",
    "* You can use `metrics.f1_score(..., average=\"weighted\")` to compute f1 score.\n",
    "* If you're not already familiar with regular expressions for manipulating strings, see https://docs.python.org/2/library/re.html, and re.sub() in particular."
   ]
  },
  {
   "cell_type": "code",
   "execution_count": 17,
   "metadata": {
    "colab": {},
    "colab_type": "code",
    "id": "l7gS3cGpFsxv"
   },
   "outputs": [
    {
     "name": "stderr",
     "output_type": "stream",
     "text": [
      "[nltk_data] Downloading package punkt to\n",
      "[nltk_data]     C:\\Users\\abhisha.REDMOND\\AppData\\Roaming\\nltk_data...\n",
      "[nltk_data]   Package punkt is already up-to-date!\n"
     ]
    },
    {
     "name": "stdout",
     "output_type": "stream",
     "text": [
      "\n",
      "\u001b[91m\u001b[1mEvaluating for ngram size = (1, 1)\u001b[0m\n",
      "\u001b[1m[Logistic Regression]\u001b[0m For C =0.5, F1 score: 0.7084739776490449, SSQ: [102.60222594  83.1201744   99.01364429  88.98434638]\n",
      "\u001b[1m[Original Model]\u001b[0m F1 score is 0.7084739776490449 with dictionary size 26879\n",
      "\u001b[1m[Logistic Regression]\u001b[0m For C =0.5, F1 score: 0.7011966953165177, SSQ: [99.41270194 81.32900551 97.18938129 88.22641447]\n",
      "\u001b[1m[Modified Model with Preprocessing]\u001b[0m F1 score is 0.7011966953165177 with dictionary size 19508\n",
      "\u001b[1mAbsolute difference is 0.007277282332527113\u001b[0m\n",
      "\u001b[1mPercentage difference is -1.0271770823080313\u001b[0m\n",
      "\n",
      "\u001b[91m\u001b[1mEvaluating for ngram size = (2, 2)\u001b[0m\n",
      "\u001b[1m[Logistic Regression]\u001b[0m For C =0.5, F1 score: 0.607673237840669, SSQ: [111.75537598 118.73154706 123.42664907 100.53142283]\n",
      "\u001b[1m[Original Model]\u001b[0m F1 score is 0.607673237840669 with dictionary size 194891\n",
      "\u001b[1m[Logistic Regression]\u001b[0m For C =0.5, F1 score: 0.6168684255912532, SSQ: [111.08288248 118.28234559 124.04609713 100.13693771]\n",
      "\u001b[1m[Modified Model with Preprocessing]\u001b[0m F1 score is 0.6168684255912532 with dictionary size 171353\n",
      "\u001b[1mAbsolute difference is 0.009195187750584255\u001b[0m\n",
      "\u001b[1mPercentage difference is 1.513179646228755\u001b[0m\n",
      "\n",
      "\u001b[91m\u001b[1mEvaluating for ngram size = (3, 3)\u001b[0m\n",
      "\u001b[1m[Logistic Regression]\u001b[0m For C =0.5, F1 score: 0.47035137865468585, SSQ: [123.16846839 142.35089052 137.92296833 108.14368206]\n",
      "\u001b[1m[Original Model]\u001b[0m F1 score is 0.47035137865468585 with dictionary size 315692\n",
      "\u001b[1m[Logistic Regression]\u001b[0m For C =0.5, F1 score: 0.47287334892163824, SSQ: [122.90138918 142.9252284  139.27010738 108.12171266]\n",
      "\u001b[1m[Modified Model with Preprocessing]\u001b[0m F1 score is 0.47287334892163824 with dictionary size 299497\n",
      "\u001b[1mAbsolute difference is 0.002521970266952389\u001b[0m\n",
      "\u001b[1mPercentage difference is 0.5361885563439422\u001b[0m\n",
      "\n",
      "\u001b[91m\u001b[1mEvaluating for ngram size = (1, 1)\u001b[0m\n",
      "\u001b[1m[Logistic Regression]\u001b[0m For C =0.01, F1 score: 0.6646997417582748, SSQ: [2.54149597 2.93970937 2.86246884 2.25002867]\n",
      "\u001b[1m[Original Model]\u001b[0m F1 score is 0.6646997417582748 with dictionary size 26879\n",
      "\u001b[1m[Logistic Regression]\u001b[0m For C =0.01, F1 score: 0.6690100287091386, SSQ: [2.51831416 2.8767747  2.83974941 2.21212377]\n",
      "\u001b[1m[Modified Model with Preprocessing]\u001b[0m F1 score is 0.6690100287091386 with dictionary size 19508\n",
      "\u001b[1mAbsolute difference is 0.004310286950863773\u001b[0m\n",
      "\u001b[1mPercentage difference is 0.6484562397244401\u001b[0m\n",
      "\n",
      "\u001b[91m\u001b[1mEvaluating for ngram size = (2, 2)\u001b[0m\n",
      "\u001b[1m[Logistic Regression]\u001b[0m For C =0.01, F1 score: 0.5364645621771762, SSQ: [2.69955562 2.97230015 2.88539098 2.29173443]\n",
      "\u001b[1m[Original Model]\u001b[0m F1 score is 0.5364645621771762 with dictionary size 194891\n",
      "\u001b[1m[Logistic Regression]\u001b[0m For C =0.01, F1 score: 0.5468134597597621, SSQ: [2.69496721 2.96946296 2.8696172  2.29624739]\n",
      "\u001b[1m[Modified Model with Preprocessing]\u001b[0m F1 score is 0.5468134597597621 with dictionary size 171353\n",
      "\u001b[1mAbsolute difference is 0.010348897582585947\u001b[0m\n",
      "\u001b[1mPercentage difference is 1.9290924903941846\u001b[0m\n",
      "\n",
      "\u001b[91m\u001b[1mEvaluating for ngram size = (3, 3)\u001b[0m\n",
      "\u001b[1m[Logistic Regression]\u001b[0m For C =0.01, F1 score: 0.39430992592474173, SSQ: [2.450022   2.59221597 2.64807492 2.05434589]\n",
      "\u001b[1m[Original Model]\u001b[0m F1 score is 0.39430992592474173 with dictionary size 315692\n",
      "\u001b[1m[Logistic Regression]\u001b[0m For C =0.01, F1 score: 0.4162396156850321, SSQ: [2.4471564  2.58100599 2.63148177 2.05479467]\n",
      "\u001b[1m[Modified Model with Preprocessing]\u001b[0m F1 score is 0.4162396156850321 with dictionary size 299497\n",
      "\u001b[1mAbsolute difference is 0.02192968976029036\u001b[0m\n",
      "\u001b[1mPercentage difference is 5.561536324215149\u001b[0m\n"
     ]
    }
   ],
   "source": [
    "from nltk.stem import PorterStemmer\n",
    "from nltk.tokenize import word_tokenize\n",
    "nltk.download('punkt')\n",
    "def better_preprocessor(s):\n",
    "    # lowercase the input\n",
    "    s = s.lower()\n",
    "    \n",
    "    ps = PorterStemmer()\n",
    "    words = word_tokenize(s)\n",
    "    new_s = \"\"\n",
    "    for w in words:\n",
    "        # remove all non alpha numeric values\n",
    "        alphanumeric_filter = filter(str.isalnum, w)\n",
    "        tmp = \"\".join(alphanumeric_filter)\n",
    "        \n",
    "        # replace all sequence of numbers with single num\n",
    "        tmp = re.sub(r\"[0-9]+\",\"0\", tmp)\n",
    "        \n",
    "        # stem the word using porter stemmer and add to new string\n",
    "        new_s += ps.stem(tmp) + \" \"\n",
    "    \n",
    "    return new_s\n",
    "\n",
    "def P5(l2_reg=0.5, ngram_range_param=(2,2)):\n",
    "    print()\n",
    "    print(color.RED + color.BOLD + \"Evaluating for ngram size = {0} and C={1}\".format(ngram_range_param, l2_reg) + color.END)\n",
    "    vec = CountVectorizer(ngram_range= ngram_range_param)\n",
    "    vec_result_train = vec.fit_transform(train_data)\n",
    "    \n",
    "    vec1 = CountVectorizer(ngram_range=ngram_range_param, vocabulary=vec.get_feature_names())\n",
    "    vec_result_dev = vec1.transform(dev_data)\n",
    "    \n",
    "    logit_result1 = logistic_reg_helper([l2_reg], vec_result_train.toarray(), vec_result_dev.toarray(), train_labels, dev_labels, 400)\n",
    "    \n",
    "    print(color.BOLD + \"[Original Model]\"+ color.END +\" F1 score is {0} with dictionary size {1}\".format(logit_result1[l2_reg][0], len(vec.get_feature_names())))\n",
    "    \n",
    "    vec = CountVectorizer(preprocessor=better_preprocessor, ngram_range=ngram_range_param)\n",
    "    vec_result_train = vec.fit_transform(train_data)\n",
    "\n",
    "    vec1 = CountVectorizer(preprocessor=better_preprocessor, ngram_range=ngram_range_param, vocabulary=vec.get_feature_names())\n",
    "    vec_result_dev = vec1.transform(dev_data)\n",
    "    \n",
    "    logit_result2 = logistic_reg_helper([l2_reg], vec_result_train.toarray(), vec_result_dev.toarray(), train_labels, dev_labels, 400)\n",
    "    \n",
    "    print(color.BOLD + \"[Modified Model with Preprocessing]\" + color.END + \" F1 score is {0} with dictionary size {1}\".format(logit_result2[l2_reg][0], len(vec.get_feature_names())))\n",
    "    \n",
    "    print(color.BOLD + \"Absolute difference is {0}\".format(abs(logit_result2[l2_reg][0] - logit_result1[l2_reg][0])) + color.END)\n",
    "    print(color.BOLD + \"Percentage difference is {0}\".format((100 * (logit_result2[l2_reg][0] - logit_result1[l2_reg][0]) / logit_result1[l2_reg][0])) + color.END)\n",
    "\n",
    "P5(ngram_range_param=(1,1))\n",
    "P5()\n",
    "P5(ngram_range_param=(3,3))\n",
    "\n",
    "P5(l2_reg=0.01, ngram_range_param=(1,1))\n",
    "P5(l2_reg=0.01)\n",
    "P5(l2_reg=0.01, ngram_range_param=(3,3))"
   ]
  },
  {
   "cell_type": "markdown",
   "metadata": {
    "colab_type": "text",
    "id": "Uy-WITbNFsxw"
   },
   "source": [
    "### Part 6:\n",
    "\n",
    "The idea of regularization is to avoid learning very large weights (which are likely to fit the training data, but not generalize well) by adding a penalty to the total size of the learned weights. Logistic regression seeks the set of weights that minimizes errors in the training data AND has a small total size. The default L2 regularization computes this size as the sum of the squared weights (as in Part 3 above). L1 regularization computes this size as the sum of the absolute values of the weights. Whereas L2 regularization makes all the weights relatively small, L1 regularization drives many of the weights to 0, effectively removing unimportant features.\n",
    "\n",
    "For several L1 regularization strengths ...<br/>\n",
    "* Produce a Logistic Regression model using the **L1** regularization strength.  Reduce the vocabulary to only those features that have at least one non-zero weight among the four categories.  Produce a new Logistic Regression model using the reduced vocabulary and **L2** regularization strength of 0.5.  Evaluate and show the L1 regularization strength, vocabulary size, and f1 score associated with the new model.\n",
    "\n",
    "Show a plot of f1 score vs. log vocabulary size.  Each point corresponds to a specific L1 regularization strength used to reduce the vocabulary.\n",
    "\n",
    "How does performance of the models based on reduced vocabularies compare to that of a model based on the full vocabulary?\n",
    "\n",
    "Notes:\n",
    "* Train on the transformed training data.\n",
    "* Evaluate on the transformed development data.\n",
    "* You can use `LogisticRegression(..., penalty=\"l1\")` to produce a logistic regression model using L1 regularization.\n",
    "* You can use `LogisticRegression(..., penalty=\"l2\")` to produce a logistic regression model using L2 regularization.\n",
    "* You can use `LogisticRegression(..., tol=0.015)` to produce a logistic regression model using relaxed gradient descent convergence criteria.  The gradient descent code that trains the logistic regression model sometimes has trouble converging with extreme settings of the C parameter. Relax the convergence criteria by setting tol=.015 (the default is .0001)."
   ]
  },
  {
   "cell_type": "code",
   "execution_count": 32,
   "metadata": {
    "colab": {},
    "colab_type": "code",
    "id": "l6ho31SrFsxx"
   },
   "outputs": [
    {
     "name": "stdout",
     "output_type": "stream",
     "text": [
      "\u001b[1m\u001b[91mFor L1 strength = 0.10\u001b[0m\n",
      "\u001b[1m[Logistic Regression]\u001b[0m For C =0.5, F1 score: 0.513153539157307, SSQ: [48.2918145  71.8954701  64.26578673 40.23675742]\n",
      "\u001b[1m\u001b[91mFor L1 strength = 10.10\u001b[0m\n",
      "\u001b[1m[Logistic Regression]\u001b[0m For C =0.5, F1 score: 0.584068398295286, SSQ: [149.53826731 153.98093919 164.18785778 134.09072971]\n",
      "\u001b[1m\u001b[91mFor L1 strength = 20.10\u001b[0m\n",
      "\u001b[1m[Logistic Regression]\u001b[0m For C =0.5, F1 score: 0.5894509859540087, SSQ: [149.43539982 154.19726262 164.14125091 134.45847472]\n",
      "\u001b[1m\u001b[91mFor L1 strength = 30.10\u001b[0m\n",
      "\u001b[1m[Logistic Regression]\u001b[0m For C =0.5, F1 score: 0.5891896547338952, SSQ: [149.2100382  153.48764097 163.91420303 134.32366745]\n",
      "\u001b[1m\u001b[91mFor L1 strength = 40.10\u001b[0m\n",
      "\u001b[1m[Logistic Regression]\u001b[0m For C =0.5, F1 score: 0.5938846609497634, SSQ: [149.05377571 153.84281364 163.83962921 134.14335694]\n",
      "\u001b[1m\u001b[91mFor L1 strength = 50.10\u001b[0m\n",
      "\u001b[1m[Logistic Regression]\u001b[0m For C =0.5, F1 score: 0.5987181118045038, SSQ: [149.13649919 152.70255746 163.39148491 133.99769108]\n",
      "\u001b[1m\u001b[91mFor L1 strength = 60.10\u001b[0m\n",
      "\u001b[1m[Logistic Regression]\u001b[0m For C =0.5, F1 score: 0.5993842467597122, SSQ: [148.62619064 152.01289766 163.30796481 133.77714291]\n",
      "\u001b[1m\u001b[91mFor L1 strength = 70.10\u001b[0m\n",
      "\u001b[1m[Logistic Regression]\u001b[0m For C =0.5, F1 score: 0.586408612943303, SSQ: [148.53894784 152.87222723 163.21356229 133.69971795]\n",
      "\u001b[1m\u001b[91mFor L1 strength = 80.10\u001b[0m\n",
      "\u001b[1m[Logistic Regression]\u001b[0m For C =0.5, F1 score: 0.5893340679877578, SSQ: [148.00582872 152.19114961 162.47164432 133.4225245 ]\n",
      "\u001b[1m\u001b[91mFor L1 strength = 90.10\u001b[0m\n",
      "\u001b[1m[Logistic Regression]\u001b[0m For C =0.5, F1 score: 0.5882166132099177, SSQ: [148.13664878 152.21677304 162.92106966 133.43968016]\n"
     ]
    }
   ],
   "source": [
    "import math\n",
    "\n",
    "def P6(c_l1=0.5, c_l2=0.5, ngram_range_param=(2,2), verbose=True):\n",
    "    print(color.BOLD + color.RED + \"For L1 strength = {:.2f}\".format(c_l1) + color.END)\n",
    "    # Keep this random seed here to make comparison easier.\n",
    "    np.random.seed(0)\n",
    "    \n",
    "    # prepare dataset\n",
    "    vec = CountVectorizer(ngram_range=ngram_range_param)\n",
    "    vec_result_train = vec.fit_transform(train_data)\n",
    "\n",
    "    lr1 = LogisticRegression(C=c_l1, solver=\"liblinear\", multi_class=\"auto\", penalty=\"l1\")\n",
    "    lr1.fit(vec_result_train.toarray(), train_labels)\n",
    "\n",
    "    # print(lr1.coef_.shape)\n",
    "    # Now we want the indices where atleast 1 value in the column is non zero\n",
    "    # so extract the columns from np.nonzero and select the unique ones from them\n",
    "    indices = np.nonzero(lr1.coef_)[1]\n",
    "    indices = np.unique(indices)\n",
    "    \n",
    "    vocab = []\n",
    "    # not optimal method, but we need to get the ngrams (features) corresponding to the indices\n",
    "    for k,v in vec.vocabulary_.items():\n",
    "        if v in indices:\n",
    "            vocab.append(k)\n",
    "    \n",
    "    # build the new features with this vocab\n",
    "    vec = CountVectorizer(ngram_range=ngram_range_param, vocabulary=vocab)\n",
    "    vec_result_train = vec.fit_transform(train_data)\n",
    "    \n",
    "    vec1 = CountVectorizer(ngram_range=ngram_range_param, vocabulary=vec.get_feature_names())\n",
    "    vec_result_dev = vec1.transform(dev_data)\n",
    "    \n",
    "    logit_result = logistic_reg_helper([c_l2], vec_result_train.toarray(), vec_result_dev.toarray(), train_labels, dev_labels)\n",
    "    \n",
    "    # return the metrics as needed - L1 strength, f1 score, vocab len, log vocab len\n",
    "    result = [c_l1, logit_result[c_l2][0], len(vocab), math.log(len(vocab))]\n",
    "    if verbose:\n",
    "        print(\"[F1 score] {0}\".format(result[1]))\n",
    "        print(\"[Vocab Length] {0}\".format(result[2]))\n",
    "        print(\"[Log Vocab Length] {0}\".format(result[3]))\n",
    "        print()\n",
    "    \n",
    "    return result\n",
    "    \n",
    "\n",
    "plot = []\n",
    "for i in np.arange(.1, 3, 0.5):\n",
    "    P6(c_l1=i, verbose=False)\n",
    "    \n"
   ]
  },
  {
   "cell_type": "markdown",
   "metadata": {
    "colab_type": "text",
    "id": "bZmIPwExFsx1"
   },
   "source": [
    "ANSWER:"
   ]
  },
  {
   "cell_type": "markdown",
   "metadata": {
    "colab_type": "text",
    "id": "QmrHf8AMFsxz"
   },
   "source": [
    "### Part 7:\n",
    "\n",
    "How is `TfidfVectorizer` different than `CountVectorizer`?\n",
    "\n",
    "Produce a Logistic Regression model based on data represented in tf-idf form, with L2 regularization strength of 100.  Evaluate and show the f1 score.  How is `TfidfVectorizer` different than `CountVectorizer`?\n",
    "\n",
    "Show the 3 documents with highest R ratio, where ...<br/>\n",
    "$R\\,ratio = maximum\\,predicted\\,probability \\div predicted\\,probability\\,of\\,correct\\,label$\n",
    "\n",
    "Explain what the R ratio describes.  What kinds of mistakes is the model making? Suggest a way to address one particular issue that you see.\n",
    "\n",
    "Note:\n",
    "* Train on the transformed training data.\n",
    "* Evaluate on the transformed development data.\n",
    "* You can use `TfidfVectorizer` and its `.fit_transform` method to transform data to tf-idf form.\n",
    "* You can use `LogisticRegression(C=100, solver=\"liblinear\", multi_class=\"auto\")` to produce a logistic regression model.\n",
    "* You can use `LogisticRegression`'s `.predict_proba` method to access predicted probabilities."
   ]
  },
  {
   "cell_type": "code",
   "execution_count": null,
   "metadata": {
    "colab": {},
    "colab_type": "code",
    "id": "8vwU_9t2Fsx0"
   },
   "outputs": [],
   "source": [
    "#def P7():\n",
    "    ### STUDENT START ###\n",
    "    ### STUDENT END ###\n",
    "'''\n",
    "bigram, 0.69\n",
    "\n",
    "book of mormon - i am pleased to announce\n",
    "why is the ....jesus OR (24 children)\n",
    "book of mormon\n",
    "\n",
    "\n",
    "indices of the docs\n",
    "215,667,615\n",
    "471,215,665\n",
    "\n",
    "r ratio can be derived from predicted_proba\n",
    "for index 665 =663.333\n",
    "index 215=476, 168\n",
    "index 471 = 236, 94\n",
    "\n",
    "'''\n",
    "#P7()"
   ]
  },
  {
   "cell_type": "markdown",
   "metadata": {
    "colab_type": "text",
    "id": "bZmIPwExFsx1"
   },
   "source": [
    "ANSWER:"
   ]
  },
  {
   "cell_type": "markdown",
   "metadata": {
    "colab_type": "text",
    "id": "VmsDxtzoFsx1"
   },
   "source": [
    "### Part 8 EXTRA CREDIT:\n",
    "\n",
    "Produce a Logistic Regression model to implement your suggestion from Part 7."
   ]
  },
  {
   "cell_type": "code",
   "execution_count": null,
   "metadata": {
    "colab": {},
    "colab_type": "code",
    "id": "ZMaqe8c5Fsx2"
   },
   "outputs": [],
   "source": []
  }
 ],
 "metadata": {
  "colab": {
   "collapsed_sections": [],
   "name": "firstname_lastname_p2.ipynb",
   "private_outputs": true,
   "provenance": [
    {
     "file_id": "https://github.com/MIDS-W207/Master/blob/master/Projects/firstname_lastname_p2.ipynb",
     "timestamp": 1559779272103
    }
   ],
   "version": "0.3.2"
  },
  "kernelspec": {
   "display_name": "Python 3",
   "language": "python",
   "name": "python3"
  },
  "language_info": {
   "codemirror_mode": {
    "name": "ipython",
    "version": 3
   },
   "file_extension": ".py",
   "mimetype": "text/x-python",
   "name": "python",
   "nbconvert_exporter": "python",
   "pygments_lexer": "ipython3",
   "version": "3.7.4"
  },
  "toc": {
   "base_numbering": 1,
   "nav_menu": {},
   "number_sections": false,
   "sideBar": true,
   "skip_h1_title": true,
   "title_cell": "Table of Contents",
   "title_sidebar": "Contents",
   "toc_cell": false,
   "toc_position": {},
   "toc_section_display": true,
   "toc_window_display": false
  }
 },
 "nbformat": 4,
 "nbformat_minor": 1
}
